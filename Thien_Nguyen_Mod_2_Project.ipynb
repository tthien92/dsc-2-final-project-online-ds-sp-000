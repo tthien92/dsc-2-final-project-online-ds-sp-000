{
 "cells": [
  {
   "cell_type": "markdown",
   "metadata": {},
   "source": [
    "# Thien Nguyen Module 2 Project\n",
    "Instructor: Eli Thomas\n",
    "\n",
    "Self-Paced Data Science Course"
   ]
  },
  {
   "cell_type": "markdown",
   "metadata": {},
   "source": [
    "## Introduction\n",
    "\n",
    "The purpose of this investigation will be to investigate and extrapolate data from the Northwind data using SQL queries and statistical tests. One primary question will be the focus of each section for a total of four section. Each section will iterate through similar steps:\n",
    "\n",
    "1. Query required data via SQLite3 & perform the necessary -join's and integrating the data into a pandas dataframe\n",
    "2. Scrub the dataframe's missing values\n",
    "3. Establish null and alternative hypothesis \n",
    "4. Conduct statistical test(s) to determine significance & effect size.\n",
    "5. Summarize findings and readdress original inquiry\n",
    "\n",
    "An overall summary of the entire investigation will be provided at the end."
   ]
  },
  {
   "cell_type": "markdown",
   "metadata": {},
   "source": [
    "## Q1 - Do discounts have an effect on the number of products customers order? If so, at what level of discounts?"
   ]
  },
  {
   "cell_type": "markdown",
   "metadata": {},
   "source": [
    "### 1a. Query Data from Northwind Database & Perform Join's"
   ]
  },
  {
   "cell_type": "code",
   "execution_count": 3,
   "metadata": {},
   "outputs": [],
   "source": [
    "# Import necessary packages\n",
    "import sqlite3\n",
    "import pandas as pd\n",
    "import sqlalchemy\n",
    "from sqlalchemy import create_engine\n",
    "from sqlalchemy.orm import Session, sessionmaker\n",
    "from sqlalchemy import inspect\n",
    "import numpy as np\n",
    "import seaborn as sns\n",
    "from scipy import stats\n",
    "import matplotlib.pyplot as plt\n",
    "from statsmodels.formula.api import ols\n",
    "import statsmodels.api as sm\n",
    "from datetime import datetime\n",
    "import scipy.stats as st"
   ]
  },
  {
   "cell_type": "code",
   "execution_count": 4,
   "metadata": {},
   "outputs": [
    {
     "name": "stdout",
     "output_type": "stream",
     "text": [
      "['Category', 'Customer', 'CustomerCustomerDemo', 'CustomerDemographic', 'Employee', 'EmployeeTerritory', 'Order', 'OrderDetail', 'Product', 'Region', 'Shipper', 'Supplier', 'Territory']\n"
     ]
    }
   ],
   "source": [
    "\n",
    "\n",
    "#Link to Norwthind Database & Create an engine \n",
    "engine = create_engine('sqlite:///Northwind_small.sqlite')\n",
    "Session = sessionmaker(bind=engine)\n",
    "session = Session()\n",
    "con = engine.connect()\n",
    "\n",
    "#Make sure that the table names match\n",
    "inspector = inspect(engine)\n",
    "print(inspector.get_table_names())"
   ]
  },
  {
   "cell_type": "markdown",
   "metadata": {},
   "source": [
    "The column names are slightly different than what is listed in the schema, so accounting for this is crucial henceforth. Let's examine the two tables that hold data pertinent to answering our inquiry-- OrderDetail and Product."
   ]
  },
  {
   "cell_type": "code",
   "execution_count": 5,
   "metadata": {},
   "outputs": [
    {
     "data": {
      "text/html": [
       "<div>\n",
       "<style scoped>\n",
       "    .dataframe tbody tr th:only-of-type {\n",
       "        vertical-align: middle;\n",
       "    }\n",
       "\n",
       "    .dataframe tbody tr th {\n",
       "        vertical-align: top;\n",
       "    }\n",
       "\n",
       "    .dataframe thead th {\n",
       "        text-align: right;\n",
       "    }\n",
       "</style>\n",
       "<table border=\"1\" class=\"dataframe\">\n",
       "  <thead>\n",
       "    <tr style=\"text-align: right;\">\n",
       "      <th></th>\n",
       "      <th>Id</th>\n",
       "      <th>OrderId</th>\n",
       "      <th>ProductId</th>\n",
       "      <th>UnitPrice</th>\n",
       "      <th>Quantity</th>\n",
       "      <th>Discount</th>\n",
       "    </tr>\n",
       "  </thead>\n",
       "  <tbody>\n",
       "    <tr>\n",
       "      <th>0</th>\n",
       "      <td>10248/11</td>\n",
       "      <td>10248</td>\n",
       "      <td>11</td>\n",
       "      <td>14.0</td>\n",
       "      <td>12</td>\n",
       "      <td>0.0</td>\n",
       "    </tr>\n",
       "    <tr>\n",
       "      <th>1</th>\n",
       "      <td>10248/42</td>\n",
       "      <td>10248</td>\n",
       "      <td>42</td>\n",
       "      <td>9.8</td>\n",
       "      <td>10</td>\n",
       "      <td>0.0</td>\n",
       "    </tr>\n",
       "    <tr>\n",
       "      <th>2</th>\n",
       "      <td>10248/72</td>\n",
       "      <td>10248</td>\n",
       "      <td>72</td>\n",
       "      <td>34.8</td>\n",
       "      <td>5</td>\n",
       "      <td>0.0</td>\n",
       "    </tr>\n",
       "    <tr>\n",
       "      <th>3</th>\n",
       "      <td>10249/14</td>\n",
       "      <td>10249</td>\n",
       "      <td>14</td>\n",
       "      <td>18.6</td>\n",
       "      <td>9</td>\n",
       "      <td>0.0</td>\n",
       "    </tr>\n",
       "    <tr>\n",
       "      <th>4</th>\n",
       "      <td>10249/51</td>\n",
       "      <td>10249</td>\n",
       "      <td>51</td>\n",
       "      <td>42.4</td>\n",
       "      <td>40</td>\n",
       "      <td>0.0</td>\n",
       "    </tr>\n",
       "  </tbody>\n",
       "</table>\n",
       "</div>"
      ],
      "text/plain": [
       "         Id  OrderId  ProductId  UnitPrice  Quantity  Discount\n",
       "0  10248/11    10248         11       14.0        12       0.0\n",
       "1  10248/42    10248         42        9.8        10       0.0\n",
       "2  10248/72    10248         72       34.8         5       0.0\n",
       "3  10249/14    10249         14       18.6         9       0.0\n",
       "4  10249/51    10249         51       42.4        40       0.0"
      ]
     },
     "execution_count": 5,
     "metadata": {},
     "output_type": "execute_result"
    }
   ],
   "source": [
    "#Query with pandas since it includes the column names, which is super convenient\n",
    "\n",
    "df = pd.read_sql_query(\"SELECT * FROM OrderDetail\", engine)\n",
    "df.head()\n"
   ]
  },
  {
   "cell_type": "code",
   "execution_count": 6,
   "metadata": {},
   "outputs": [
    {
     "data": {
      "text/plain": [
       "array([0.  , 0.15, 0.05, 0.2 , 0.25, 0.1 , 0.02, 0.03, 0.04, 0.06, 0.01])"
      ]
     },
     "execution_count": 6,
     "metadata": {},
     "output_type": "execute_result"
    }
   ],
   "source": [
    "df.Discount.unique()"
   ]
  },
  {
   "cell_type": "markdown",
   "metadata": {},
   "source": [
    "The discounts range from **0% to 25%**. For the table, the column of interest may be **quantity**, which could indicate the quantity of the order. In addition, the subsequent join will using the ProductId."
   ]
  },
  {
   "cell_type": "code",
   "execution_count": 7,
   "metadata": {},
   "outputs": [
    {
     "data": {
      "text/html": [
       "<div>\n",
       "<style scoped>\n",
       "    .dataframe tbody tr th:only-of-type {\n",
       "        vertical-align: middle;\n",
       "    }\n",
       "\n",
       "    .dataframe tbody tr th {\n",
       "        vertical-align: top;\n",
       "    }\n",
       "\n",
       "    .dataframe thead th {\n",
       "        text-align: right;\n",
       "    }\n",
       "</style>\n",
       "<table border=\"1\" class=\"dataframe\">\n",
       "  <thead>\n",
       "    <tr style=\"text-align: right;\">\n",
       "      <th></th>\n",
       "      <th>Id</th>\n",
       "      <th>ProductName</th>\n",
       "      <th>SupplierId</th>\n",
       "      <th>CategoryId</th>\n",
       "      <th>QuantityPerUnit</th>\n",
       "      <th>UnitPrice</th>\n",
       "      <th>UnitsInStock</th>\n",
       "      <th>UnitsOnOrder</th>\n",
       "      <th>ReorderLevel</th>\n",
       "      <th>Discontinued</th>\n",
       "    </tr>\n",
       "  </thead>\n",
       "  <tbody>\n",
       "    <tr>\n",
       "      <th>0</th>\n",
       "      <td>1</td>\n",
       "      <td>Chai</td>\n",
       "      <td>1</td>\n",
       "      <td>1</td>\n",
       "      <td>10 boxes x 20 bags</td>\n",
       "      <td>18.00</td>\n",
       "      <td>39</td>\n",
       "      <td>0</td>\n",
       "      <td>10</td>\n",
       "      <td>0</td>\n",
       "    </tr>\n",
       "    <tr>\n",
       "      <th>1</th>\n",
       "      <td>2</td>\n",
       "      <td>Chang</td>\n",
       "      <td>1</td>\n",
       "      <td>1</td>\n",
       "      <td>24 - 12 oz bottles</td>\n",
       "      <td>19.00</td>\n",
       "      <td>17</td>\n",
       "      <td>40</td>\n",
       "      <td>25</td>\n",
       "      <td>0</td>\n",
       "    </tr>\n",
       "    <tr>\n",
       "      <th>2</th>\n",
       "      <td>3</td>\n",
       "      <td>Aniseed Syrup</td>\n",
       "      <td>1</td>\n",
       "      <td>2</td>\n",
       "      <td>12 - 550 ml bottles</td>\n",
       "      <td>10.00</td>\n",
       "      <td>13</td>\n",
       "      <td>70</td>\n",
       "      <td>25</td>\n",
       "      <td>0</td>\n",
       "    </tr>\n",
       "    <tr>\n",
       "      <th>3</th>\n",
       "      <td>4</td>\n",
       "      <td>Chef Anton's Cajun Seasoning</td>\n",
       "      <td>2</td>\n",
       "      <td>2</td>\n",
       "      <td>48 - 6 oz jars</td>\n",
       "      <td>22.00</td>\n",
       "      <td>53</td>\n",
       "      <td>0</td>\n",
       "      <td>0</td>\n",
       "      <td>0</td>\n",
       "    </tr>\n",
       "    <tr>\n",
       "      <th>4</th>\n",
       "      <td>5</td>\n",
       "      <td>Chef Anton's Gumbo Mix</td>\n",
       "      <td>2</td>\n",
       "      <td>2</td>\n",
       "      <td>36 boxes</td>\n",
       "      <td>21.35</td>\n",
       "      <td>0</td>\n",
       "      <td>0</td>\n",
       "      <td>0</td>\n",
       "      <td>1</td>\n",
       "    </tr>\n",
       "  </tbody>\n",
       "</table>\n",
       "</div>"
      ],
      "text/plain": [
       "   Id                   ProductName  SupplierId  CategoryId  \\\n",
       "0   1                          Chai           1           1   \n",
       "1   2                         Chang           1           1   \n",
       "2   3                 Aniseed Syrup           1           2   \n",
       "3   4  Chef Anton's Cajun Seasoning           2           2   \n",
       "4   5        Chef Anton's Gumbo Mix           2           2   \n",
       "\n",
       "       QuantityPerUnit  UnitPrice  UnitsInStock  UnitsOnOrder  ReorderLevel  \\\n",
       "0   10 boxes x 20 bags      18.00            39             0            10   \n",
       "1   24 - 12 oz bottles      19.00            17            40            25   \n",
       "2  12 - 550 ml bottles      10.00            13            70            25   \n",
       "3       48 - 6 oz jars      22.00            53             0             0   \n",
       "4             36 boxes      21.35             0             0             0   \n",
       "\n",
       "   Discontinued  \n",
       "0             0  \n",
       "1             0  \n",
       "2             0  \n",
       "3             0  \n",
       "4             1  "
      ]
     },
     "execution_count": 7,
     "metadata": {},
     "output_type": "execute_result"
    }
   ],
   "source": [
    "df = pd.read_sql_query(\"SELECT * FROM Product\", engine)\n",
    "df.head()"
   ]
  },
  {
   "cell_type": "markdown",
   "metadata": {},
   "source": [
    "However, the column of interest could also be the UnitsOnOrder, which *could* point to how many units are currently being ordered. The issue here is that unit does not necessarily translate to number of products nicely, as the \"unit amount\" for each item varies significantly. Furthermore, there is still ambiguity on what *on order* really means. The quantity column from the order details table is most likely the target variable, but we can also include and conduct A/B tests on UnitsOnOrder too.\n"
   ]
  },
  {
   "cell_type": "code",
   "execution_count": 8,
   "metadata": {},
   "outputs": [
    {
     "data": {
      "text/html": [
       "<div>\n",
       "<style scoped>\n",
       "    .dataframe tbody tr th:only-of-type {\n",
       "        vertical-align: middle;\n",
       "    }\n",
       "\n",
       "    .dataframe tbody tr th {\n",
       "        vertical-align: top;\n",
       "    }\n",
       "\n",
       "    .dataframe thead th {\n",
       "        text-align: right;\n",
       "    }\n",
       "</style>\n",
       "<table border=\"1\" class=\"dataframe\">\n",
       "  <thead>\n",
       "    <tr style=\"text-align: right;\">\n",
       "      <th></th>\n",
       "      <th>ProductId</th>\n",
       "      <th>Discount</th>\n",
       "      <th>Quantity</th>\n",
       "      <th>UnitsOnOrder</th>\n",
       "    </tr>\n",
       "    <tr>\n",
       "      <th>ProductName</th>\n",
       "      <th></th>\n",
       "      <th></th>\n",
       "      <th></th>\n",
       "      <th></th>\n",
       "    </tr>\n",
       "  </thead>\n",
       "  <tbody>\n",
       "    <tr>\n",
       "      <th>Jack's New England Clam Chowder</th>\n",
       "      <td>41</td>\n",
       "      <td>0.25</td>\n",
       "      <td>16</td>\n",
       "      <td>0</td>\n",
       "    </tr>\n",
       "    <tr>\n",
       "      <th>Tarte au sucre</th>\n",
       "      <td>62</td>\n",
       "      <td>0.25</td>\n",
       "      <td>15</td>\n",
       "      <td>0</td>\n",
       "    </tr>\n",
       "    <tr>\n",
       "      <th>Outback Lager</th>\n",
       "      <td>70</td>\n",
       "      <td>0.25</td>\n",
       "      <td>21</td>\n",
       "      <td>10</td>\n",
       "    </tr>\n",
       "    <tr>\n",
       "      <th>Pavlova</th>\n",
       "      <td>16</td>\n",
       "      <td>0.25</td>\n",
       "      <td>60</td>\n",
       "      <td>0</td>\n",
       "    </tr>\n",
       "    <tr>\n",
       "      <th>Nord-Ost Matjeshering</th>\n",
       "      <td>30</td>\n",
       "      <td>0.25</td>\n",
       "      <td>60</td>\n",
       "      <td>0</td>\n",
       "    </tr>\n",
       "  </tbody>\n",
       "</table>\n",
       "</div>"
      ],
      "text/plain": [
       "                                 ProductId  Discount  Quantity  UnitsOnOrder\n",
       "ProductName                                                                 \n",
       "Jack's New England Clam Chowder         41      0.25        16             0\n",
       "Tarte au sucre                          62      0.25        15             0\n",
       "Outback Lager                           70      0.25        21            10\n",
       "Pavlova                                 16      0.25        60             0\n",
       "Nord-Ost Matjeshering                   30      0.25        60             0"
      ]
     },
     "execution_count": 8,
     "metadata": {},
     "output_type": "execute_result"
    }
   ],
   "source": [
    "#Join both tables on productId and drop all discontinued products. The product name is also included.\n",
    "df = pd.read_sql_query('''SELECT o.ProductId, o.Discount, o.Quantity, p.ProductName, p.UnitsOnOrder FROM [OrderDetail] o\n",
    "                       INNER JOIN [Product] p ON o.ProductId = p.Id\n",
    "                       WHERE (Discontinued ==0)\n",
    "                       ORDER BY Discount DESC\n",
    "                       ''', engine)     \n",
    "\n",
    "df = df.set_index('ProductName')\n",
    "df.head()\n"
   ]
  },
  {
   "cell_type": "code",
   "execution_count": 9,
   "metadata": {},
   "outputs": [],
   "source": [
    "#Let's drop the id column since it is an int number type, which may throw off the calculations. \n",
    "df.drop('ProductId', axis =1, inplace = True)"
   ]
  },
  {
   "cell_type": "code",
   "execution_count": 10,
   "metadata": {},
   "outputs": [
    {
     "data": {
      "text/html": [
       "<div>\n",
       "<style scoped>\n",
       "    .dataframe tbody tr th:only-of-type {\n",
       "        vertical-align: middle;\n",
       "    }\n",
       "\n",
       "    .dataframe tbody tr th {\n",
       "        vertical-align: top;\n",
       "    }\n",
       "\n",
       "    .dataframe thead th {\n",
       "        text-align: right;\n",
       "    }\n",
       "</style>\n",
       "<table border=\"1\" class=\"dataframe\">\n",
       "  <thead>\n",
       "    <tr style=\"text-align: right;\">\n",
       "      <th></th>\n",
       "      <th>Discount</th>\n",
       "      <th>Quantity</th>\n",
       "      <th>UnitsOnOrder</th>\n",
       "    </tr>\n",
       "    <tr>\n",
       "      <th>ProductName</th>\n",
       "      <th></th>\n",
       "      <th></th>\n",
       "      <th></th>\n",
       "    </tr>\n",
       "  </thead>\n",
       "  <tbody>\n",
       "    <tr>\n",
       "      <th>Jack's New England Clam Chowder</th>\n",
       "      <td>0.25</td>\n",
       "      <td>16</td>\n",
       "      <td>0</td>\n",
       "    </tr>\n",
       "    <tr>\n",
       "      <th>Tarte au sucre</th>\n",
       "      <td>0.25</td>\n",
       "      <td>15</td>\n",
       "      <td>0</td>\n",
       "    </tr>\n",
       "    <tr>\n",
       "      <th>Outback Lager</th>\n",
       "      <td>0.25</td>\n",
       "      <td>21</td>\n",
       "      <td>10</td>\n",
       "    </tr>\n",
       "    <tr>\n",
       "      <th>Pavlova</th>\n",
       "      <td>0.25</td>\n",
       "      <td>60</td>\n",
       "      <td>0</td>\n",
       "    </tr>\n",
       "    <tr>\n",
       "      <th>Nord-Ost Matjeshering</th>\n",
       "      <td>0.25</td>\n",
       "      <td>60</td>\n",
       "      <td>0</td>\n",
       "    </tr>\n",
       "  </tbody>\n",
       "</table>\n",
       "</div>"
      ],
      "text/plain": [
       "                                 Discount  Quantity  UnitsOnOrder\n",
       "ProductName                                                      \n",
       "Jack's New England Clam Chowder      0.25        16             0\n",
       "Tarte au sucre                       0.25        15             0\n",
       "Outback Lager                        0.25        21            10\n",
       "Pavlova                              0.25        60             0\n",
       "Nord-Ost Matjeshering                0.25        60             0"
      ]
     },
     "execution_count": 10,
     "metadata": {},
     "output_type": "execute_result"
    }
   ],
   "source": [
    "df.head()"
   ]
  },
  {
   "cell_type": "markdown",
   "metadata": {},
   "source": [
    "### 1b.Scrub Data"
   ]
  },
  {
   "cell_type": "code",
   "execution_count": 11,
   "metadata": {},
   "outputs": [
    {
     "data": {
      "text/html": [
       "<div>\n",
       "<style scoped>\n",
       "    .dataframe tbody tr th:only-of-type {\n",
       "        vertical-align: middle;\n",
       "    }\n",
       "\n",
       "    .dataframe tbody tr th {\n",
       "        vertical-align: top;\n",
       "    }\n",
       "\n",
       "    .dataframe thead th {\n",
       "        text-align: right;\n",
       "    }\n",
       "</style>\n",
       "<table border=\"1\" class=\"dataframe\">\n",
       "  <thead>\n",
       "    <tr style=\"text-align: right;\">\n",
       "      <th></th>\n",
       "      <th>Discount</th>\n",
       "      <th>Quantity</th>\n",
       "      <th>UnitsOnOrder</th>\n",
       "    </tr>\n",
       "  </thead>\n",
       "  <tbody>\n",
       "    <tr>\n",
       "      <th>count</th>\n",
       "      <td>1927.000000</td>\n",
       "      <td>1927.000000</td>\n",
       "      <td>1927.000000</td>\n",
       "    </tr>\n",
       "    <tr>\n",
       "      <th>mean</th>\n",
       "      <td>0.056300</td>\n",
       "      <td>23.879606</td>\n",
       "      <td>9.029580</td>\n",
       "    </tr>\n",
       "    <tr>\n",
       "      <th>std</th>\n",
       "      <td>0.083328</td>\n",
       "      <td>18.910074</td>\n",
       "      <td>20.677584</td>\n",
       "    </tr>\n",
       "    <tr>\n",
       "      <th>min</th>\n",
       "      <td>0.000000</td>\n",
       "      <td>1.000000</td>\n",
       "      <td>0.000000</td>\n",
       "    </tr>\n",
       "    <tr>\n",
       "      <th>25%</th>\n",
       "      <td>0.000000</td>\n",
       "      <td>10.000000</td>\n",
       "      <td>0.000000</td>\n",
       "    </tr>\n",
       "    <tr>\n",
       "      <th>50%</th>\n",
       "      <td>0.000000</td>\n",
       "      <td>20.000000</td>\n",
       "      <td>0.000000</td>\n",
       "    </tr>\n",
       "    <tr>\n",
       "      <th>75%</th>\n",
       "      <td>0.100000</td>\n",
       "      <td>30.000000</td>\n",
       "      <td>0.000000</td>\n",
       "    </tr>\n",
       "    <tr>\n",
       "      <th>max</th>\n",
       "      <td>0.250000</td>\n",
       "      <td>130.000000</td>\n",
       "      <td>100.000000</td>\n",
       "    </tr>\n",
       "  </tbody>\n",
       "</table>\n",
       "</div>"
      ],
      "text/plain": [
       "          Discount     Quantity  UnitsOnOrder\n",
       "count  1927.000000  1927.000000   1927.000000\n",
       "mean      0.056300    23.879606      9.029580\n",
       "std       0.083328    18.910074     20.677584\n",
       "min       0.000000     1.000000      0.000000\n",
       "25%       0.000000    10.000000      0.000000\n",
       "50%       0.000000    20.000000      0.000000\n",
       "75%       0.100000    30.000000      0.000000\n",
       "max       0.250000   130.000000    100.000000"
      ]
     },
     "execution_count": 11,
     "metadata": {},
     "output_type": "execute_result"
    }
   ],
   "source": [
    "df.describe()"
   ]
  },
  {
   "cell_type": "code",
   "execution_count": 12,
   "metadata": {},
   "outputs": [
    {
     "data": {
      "text/plain": [
       "Discount        0\n",
       "Quantity        0\n",
       "UnitsOnOrder    0\n",
       "dtype: int64"
      ]
     },
     "execution_count": 12,
     "metadata": {},
     "output_type": "execute_result"
    }
   ],
   "source": [
    "df.isna().sum()"
   ]
  },
  {
   "cell_type": "markdown",
   "metadata": {},
   "source": [
    "While no column has any null values, the UnitsOnOrder column contains mostly 0 with a rather large standard deviation. This may complicate statistic test later on."
   ]
  },
  {
   "cell_type": "markdown",
   "metadata": {},
   "source": [
    "### 1c. Establishing Null & Alternative Hypotheses\n",
    "\n",
    "**Null hypothesis ($H_0$ )**: discounts have no effect in increasing or decreasing the amount of products customers order, regardless of level.\n",
    "\n",
    "**Alternative hypothesis $H_A$ **: discounts have a statistically significant effect in increasing or decreasing the amount of proudcts customers order.\n",
    "\n",
    "Although discounts are often thought of as incentives to increase customers' purchases, consumer spending habits are often more psychologically complex. A heavily discounted item might actually have a negative correlation with purchases, as it might indicated undesirability. Therefore, a two-tailed test is appropriate in order to not missing this effect."
   ]
  },
  {
   "cell_type": "markdown",
   "metadata": {},
   "source": [
    "### 1d. Conducting Statistical Tests"
   ]
  },
  {
   "cell_type": "code",
   "execution_count": 13,
   "metadata": {},
   "outputs": [
    {
     "data": {
      "text/plain": [
       "array([0.25, 0.2 , 0.15, 0.1 , 0.06, 0.05, 0.04, 0.03, 0.02, 0.01, 0.  ])"
      ]
     },
     "execution_count": 13,
     "metadata": {},
     "output_type": "execute_result"
    }
   ],
   "source": [
    "df.Discount.unique()"
   ]
  },
  {
   "cell_type": "markdown",
   "metadata": {},
   "source": [
    "There are 10 levels of discount. A sample test can be performed for each level versus the control group-no discount."
   ]
  },
  {
   "cell_type": "code",
   "execution_count": 14,
   "metadata": {},
   "outputs": [
    {
     "data": {
      "text/plain": [
       "[0.25, 0.2, 0.15, 0.1, 0.06, 0.05, 0.04, 0.03, 0.02, 0.01]"
      ]
     },
     "execution_count": 14,
     "metadata": {},
     "output_type": "execute_result"
    }
   ],
   "source": [
    "#The control group lacks any discount\n",
    "control = df[df['Discount'] == 0]\n",
    "\n",
    "#Create a list of all unique level of discount\n",
    "exp_list = list(df.Discount.unique())\n",
    "exp_list = exp_list[0:len(exp_list)-1]\n",
    "exp_list\n"
   ]
  },
  {
   "cell_type": "code",
   "execution_count": 15,
   "metadata": {},
   "outputs": [
    {
     "name": "stdout",
     "output_type": "stream",
     "text": [
      "0.25 134\n",
      "0.2 147\n",
      "0.15 146\n",
      "0.1 152\n",
      "0.06 1\n",
      "0.05 165\n",
      "0.04 1\n",
      "0.03 3\n",
      "0.02 2\n",
      "0.01 1\n"
     ]
    }
   ],
   "source": [
    "#Since there are so many levels of discounts, let's see how many items are in each discount category\n",
    "for level in exp_list:\n",
    "    print(level, len(df[df['Discount']== level]))"
   ]
  },
  {
   "cell_type": "markdown",
   "metadata": {},
   "source": [
    "There is an issue because there are almost no items with .01, .02, .03, .04, and .06 discount levels. Conducting a T-test on these groups is impossible because there aren't enough samples to justify any statistical difference. Therefore, it would be best to drop these categories and focus on the bulk of the data."
   ]
  },
  {
   "cell_type": "code",
   "execution_count": 16,
   "metadata": {},
   "outputs": [
    {
     "data": {
      "text/plain": [
       "['Camembert Pierrot',\n",
       " \"Sir Rodney's Marmalade\",\n",
       " 'Tofu',\n",
       " 'Pavlova',\n",
       " 'Wimmers gute Semmelknödel',\n",
       " \"Grandma's Boysenberry Spread\",\n",
       " 'Spegesild',\n",
       " 'Röd Kaviar']"
      ]
     },
     "execution_count": 16,
     "metadata": {},
     "output_type": "execute_result"
    }
   ],
   "source": [
    "drop_discount = list(df.loc[(df.Discount ==.06) | (df.Discount<=.04) & (df.Discount!=0)].index)\n",
    "drop_discount"
   ]
  },
  {
   "cell_type": "code",
   "execution_count": 17,
   "metadata": {},
   "outputs": [
    {
     "name": "stdout",
     "output_type": "stream",
     "text": [
      "0.25 118\n",
      "0.2 136\n",
      "0.15 126\n",
      "0.1 134\n",
      "0.06 0\n",
      "0.05 143\n",
      "0.04 0\n",
      "0.03 0\n",
      "0.02 0\n",
      "0.01 0\n"
     ]
    }
   ],
   "source": [
    "#drop the the columns\n",
    "df = df.drop(drop_discount)\n",
    "\n",
    "#check to see if they've been dropped\n",
    "for level in exp_list:\n",
    "    print(level, len(df[df['Discount']== level]))"
   ]
  },
  {
   "cell_type": "markdown",
   "metadata": {},
   "source": [
    "Perfect! With this, there are only 5 discount categories, and they are all multiples of 5%, which is a much nicer and more even distribution of discount levels"
   ]
  },
  {
   "cell_type": "code",
   "execution_count": 18,
   "metadata": {},
   "outputs": [
    {
     "name": "stdout",
     "output_type": "stream",
     "text": [
      "P-value at discount level 0.25 for Quantity is 0.0010229921002012031\n",
      "P-value at discount level 0.2 for Quantity is 0.000797274302843069\n",
      "P-value at discount level 0.15 for Quantity is 3.826058587651554e-06\n",
      "P-value at discount level 0.1 for Quantity is 0.1407459208822454\n",
      "P-value at discount level 0.05 for Quantity is 0.0003421319140783394\n",
      "P-value at discount level 0.25 for UnitsOnOrder is 0.38399890425721617\n",
      "P-value at discount level 0.2 for UnitsOnOrder is 0.2706857290017817\n",
      "P-value at discount level 0.15 for UnitsOnOrder is 0.2801915651540492\n",
      "P-value at discount level 0.1 for UnitsOnOrder is 0.16123740871354705\n",
      "P-value at discount level 0.05 for UnitsOnOrder is 0.711242285497282\n"
     ]
    }
   ],
   "source": [
    "#Use a loop to run a two-sample t-test through both possible target variables and append it to a list. \n",
    "exp_list = [.25, .20, .15, .10, .05]\n",
    "\n",
    "t_test_results = []\n",
    "\n",
    "for var in ['Quantity', 'UnitsOnOrder']:\n",
    "    for discount_level in exp_list:\n",
    "        result = stats.ttest_ind(df[df['Discount']==discount_level][var], control[var])\n",
    "        t_test_results.append([discount_level,result])\n",
    "        print('P-value at discount level {} for {} is {}'.format(discount_level, var ,result[1]))\n",
    "        "
   ]
  },
  {
   "cell_type": "markdown",
   "metadata": {},
   "source": [
    "At this point it is pretty obvious that the p-values for UnitsOnOrder are **not** statistically significant at all, so it would be safe to drop this column within the dataframe, since it would no longer be relevant to answering the proposed question. Further, this is not really surprising given the distribution of data seen when running the describe method on UnitsOnOrder (Ie. most of the data in the column was 0). "
   ]
  },
  {
   "cell_type": "code",
   "execution_count": 19,
   "metadata": {},
   "outputs": [
    {
     "data": {
      "text/html": [
       "<div>\n",
       "<style scoped>\n",
       "    .dataframe tbody tr th:only-of-type {\n",
       "        vertical-align: middle;\n",
       "    }\n",
       "\n",
       "    .dataframe tbody tr th {\n",
       "        vertical-align: top;\n",
       "    }\n",
       "\n",
       "    .dataframe thead th {\n",
       "        text-align: right;\n",
       "    }\n",
       "</style>\n",
       "<table border=\"1\" class=\"dataframe\">\n",
       "  <thead>\n",
       "    <tr style=\"text-align: right;\">\n",
       "      <th></th>\n",
       "      <th>Discount</th>\n",
       "      <th>Quantity</th>\n",
       "    </tr>\n",
       "    <tr>\n",
       "      <th>ProductName</th>\n",
       "      <th></th>\n",
       "      <th></th>\n",
       "    </tr>\n",
       "  </thead>\n",
       "  <tbody>\n",
       "    <tr>\n",
       "      <th>Jack's New England Clam Chowder</th>\n",
       "      <td>0.25</td>\n",
       "      <td>16</td>\n",
       "    </tr>\n",
       "    <tr>\n",
       "      <th>Tarte au sucre</th>\n",
       "      <td>0.25</td>\n",
       "      <td>15</td>\n",
       "    </tr>\n",
       "    <tr>\n",
       "      <th>Outback Lager</th>\n",
       "      <td>0.25</td>\n",
       "      <td>21</td>\n",
       "    </tr>\n",
       "    <tr>\n",
       "      <th>Nord-Ost Matjeshering</th>\n",
       "      <td>0.25</td>\n",
       "      <td>60</td>\n",
       "    </tr>\n",
       "    <tr>\n",
       "      <th>Longlife Tofu</th>\n",
       "      <td>0.25</td>\n",
       "      <td>36</td>\n",
       "    </tr>\n",
       "  </tbody>\n",
       "</table>\n",
       "</div>"
      ],
      "text/plain": [
       "                                 Discount  Quantity\n",
       "ProductName                                        \n",
       "Jack's New England Clam Chowder      0.25        16\n",
       "Tarte au sucre                       0.25        15\n",
       "Outback Lager                        0.25        21\n",
       "Nord-Ost Matjeshering                0.25        60\n",
       "Longlife Tofu                        0.25        36"
      ]
     },
     "execution_count": 19,
     "metadata": {},
     "output_type": "execute_result"
    }
   ],
   "source": [
    "df.drop('UnitsOnOrder', axis = 1, inplace =True)\n",
    "df.head()"
   ]
  },
  {
   "cell_type": "code",
   "execution_count": 20,
   "metadata": {},
   "outputs": [
    {
     "data": {
      "text/plain": [
       "[[0.25,\n",
       "  Ttest_indResult(statistic=3.2916366317769845, pvalue=0.0010229921002012031)],\n",
       " [0.2,\n",
       "  Ttest_indResult(statistic=3.361600747239699, pvalue=0.000797274302843069)],\n",
       " [0.15,\n",
       "  Ttest_indResult(statistic=4.640564256745567, pvalue=3.826058587651554e-06)],\n",
       " [0.1,\n",
       "  Ttest_indResult(statistic=1.473912624924472, pvalue=0.1407459208822454)],\n",
       " [0.05,\n",
       "  Ttest_indResult(statistic=3.5905413124769194, pvalue=0.0003421319140783394)]]"
      ]
     },
     "execution_count": 20,
     "metadata": {},
     "output_type": "execute_result"
    }
   ],
   "source": [
    "#Since UnitsOnOrder is no longer relevant, we can also chop off its t_test results as well. \n",
    "t_test_results = t_test_results[0:5]\n",
    "t_test_results"
   ]
  },
  {
   "cell_type": "markdown",
   "metadata": {},
   "source": [
    "The only discount level where the null hypothesis cannot be rejected with 95% confidence is at .1, which is presumably a ten percent discount."
   ]
  },
  {
   "cell_type": "code",
   "execution_count": 21,
   "metadata": {},
   "outputs": [],
   "source": [
    "#visualizes t-statistic on a normal distribution\n",
    "def visualize_t(t_stat, n_control, n_exp):\n",
    "    fig = plt.figure(figsize =(8,5))\n",
    "    ax = fig.gca()\n",
    "    \n",
    "    xs = np.linspace(-4,4,500)\n",
    "    \n",
    "    ys = stats.t.pdf(xs, (n_control-n_exp-2), 0, 1)\n",
    "    ax.plot(xs, ys, linewidth=3, color = 'red')\n",
    "    \n",
    "    ax.axvline(t_stat, color = 'black')\n",
    "    ax.axvline(-t_stat, color = 'black')\n",
    "    \n",
    "    plt.show()\n"
   ]
  },
  {
   "cell_type": "code",
   "execution_count": 22,
   "metadata": {},
   "outputs": [
    {
     "name": "stdout",
     "output_type": "stream",
     "text": [
      "Discount Level: 0.25\n"
     ]
    },
    {
     "data": {
      "image/png": "[encoded data removed]",
      "text/plain": [
       "<Figure size 576x360 with 1 Axes>"
      ]
     },
     "metadata": {},
     "output_type": "display_data"
    },
    {
     "name": "stdout",
     "output_type": "stream",
     "text": [
      "Discount Level: 0.2\n"
     ]
    },
    {
     "data": {
      "image/png": "[encoded data removed]",
      "text/plain": [
       "<Figure size 576x360 with 1 Axes>"
      ]
     },
     "metadata": {},
     "output_type": "display_data"
    },
    {
     "name": "stdout",
     "output_type": "stream",
     "text": [
      "Discount Level: 0.15\n"
     ]
    },
    {
     "data": {
      "image/png": "[encoded data removed]",
      "text/plain": [
       "<Figure size 576x360 with 1 Axes>"
      ]
     },
     "metadata": {},
     "output_type": "display_data"
    },
    {
     "name": "stdout",
     "output_type": "stream",
     "text": [
      "Discount Level: 0.1\n"
     ]
    },
    {
     "data": {
      "image/png": "[encoded data removed]",
      "text/plain": [
       "<Figure size 576x360 with 1 Axes>"
      ]
     },
     "metadata": {},
     "output_type": "display_data"
    },
    {
     "name": "stdout",
     "output_type": "stream",
     "text": [
      "Discount Level: 0.05\n"
     ]
    },
    {
     "data": {
      "image/png": "[encoded data removed]",
      "text/plain": [
       "<Figure size 576x360 with 1 Axes>"
      ]
     },
     "metadata": {},
     "output_type": "display_data"
    }
   ],
   "source": [
    "for t_test in t_test_results:\n",
    "    n_control = len(control)\n",
    "    n_exp = len(df[df['Discount']== t_test[0]])\n",
    "    t_stat = (t_test[1])[0]\n",
    "    print('Discount Level:', t_test[0])\n",
    "    visualize_t(t_stat, n_control, n_exp)"
   ]
  },
  {
   "cell_type": "markdown",
   "metadata": {},
   "source": [
    "### Post-Test Analysis\n",
    "Other than ten percent, every level of discount seems to have a statistically significant impact on the quantity of items customers order. This is somewhat surprising since conventional wisdom would suggest a correlation between items sold and discount level. To see if this finding still holds true, a Kolmogorov–Smirnov test can also be conducted on the data"
   ]
  },
  {
   "cell_type": "code",
   "execution_count": 23,
   "metadata": {},
   "outputs": [
    {
     "name": "stdout",
     "output_type": "stream",
     "text": [
      "P-value at discount level 0.25 for Quantity is 0.004082056647206293\n",
      "P-value at discount level 0.2 for Quantity is 0.011158875750229509\n",
      "P-value at discount level 0.15 for Quantity is 0.008071926815490255\n",
      "P-value at discount level 0.1 for Quantity is 0.9461764192960436\n",
      "P-value at discount level 0.05 for Quantity is 0.012102604286204204\n"
     ]
    }
   ],
   "source": [
    "#Use a loop to run a two-sample KS test through predictor (discount) and target variable (quantity) and append it to a list. \n",
    "\n",
    "exp_list = [.25, .20, .15, .10, .05]\n",
    "\n",
    "ks_test_results = []\n",
    "\n",
    "#UnitsonOrder will be omitted this time, since it has already been ruled to be statistically insignifcant.\n",
    "for var in ['Quantity']:\n",
    "    for discount_level in exp_list:\n",
    "        result = stats.ks_2samp(df[df['Discount']==discount_level][var], control[var])\n",
    "        ks_test_results.append([discount_level,result])\n",
    "        print('P-value at discount level {} for {} is {}'.format(discount_level, var ,result[1]))\n",
    "        "
   ]
  },
  {
   "cell_type": "markdown",
   "metadata": {},
   "source": [
    "Again, all levels of discount, **except for .1**, has a statistically significant impact on the quantity of items sold. The KS test concurs with our 2-sample t-test: a discount of ten percent (.1) forces an acceptance of the null hypothesis.  "
   ]
  },
  {
   "cell_type": "markdown",
   "metadata": {},
   "source": [
    "### Testing Effect with ANOVA "
   ]
  },
  {
   "cell_type": "code",
   "execution_count": 24,
   "metadata": {},
   "outputs": [
    {
     "name": "stdout",
     "output_type": "stream",
     "text": [
      "                sum_sq      df          F        PR(>F)\n",
      "Discount   10069.58711     1.0  28.752179  9.346603e-08\n",
      "Residual  598876.13018  1710.0        NaN           NaN\n"
     ]
    }
   ],
   "source": [
    "#ANOVA on the discount level and quantity\n",
    "formula = 'Quantity ~ Discount'\n",
    "lm = ols(formula, df).fit()\n",
    "table = sm.stats.anova_lm(lm, typ=2)\n",
    "print(table)"
   ]
  },
  {
   "cell_type": "markdown",
   "metadata": {},
   "source": [
    "In its current form, ANOVA on the dataframe is kind of a moot point, since previous statistical tests have already shown that discounts are statistically significant in general. Therefore, it would be more interesting to see how influential each category of discount is on the overall quantity."
   ]
  },
  {
   "cell_type": "code",
   "execution_count": 25,
   "metadata": {},
   "outputs": [
    {
     "data": {
      "text/html": [
       "<div>\n",
       "<style scoped>\n",
       "    .dataframe tbody tr th:only-of-type {\n",
       "        vertical-align: middle;\n",
       "    }\n",
       "\n",
       "    .dataframe tbody tr th {\n",
       "        vertical-align: top;\n",
       "    }\n",
       "\n",
       "    .dataframe thead th {\n",
       "        text-align: right;\n",
       "    }\n",
       "</style>\n",
       "<table border=\"1\" class=\"dataframe\">\n",
       "  <thead>\n",
       "    <tr style=\"text-align: right;\">\n",
       "      <th></th>\n",
       "      <th>Discount</th>\n",
       "      <th>Quantity</th>\n",
       "    </tr>\n",
       "    <tr>\n",
       "      <th>ProductName</th>\n",
       "      <th></th>\n",
       "      <th></th>\n",
       "    </tr>\n",
       "  </thead>\n",
       "  <tbody>\n",
       "    <tr>\n",
       "      <th>Jack's New England Clam Chowder</th>\n",
       "      <td>0.25</td>\n",
       "      <td>16</td>\n",
       "    </tr>\n",
       "    <tr>\n",
       "      <th>Tarte au sucre</th>\n",
       "      <td>0.25</td>\n",
       "      <td>15</td>\n",
       "    </tr>\n",
       "    <tr>\n",
       "      <th>Outback Lager</th>\n",
       "      <td>0.25</td>\n",
       "      <td>21</td>\n",
       "    </tr>\n",
       "    <tr>\n",
       "      <th>Nord-Ost Matjeshering</th>\n",
       "      <td>0.25</td>\n",
       "      <td>60</td>\n",
       "    </tr>\n",
       "    <tr>\n",
       "      <th>Longlife Tofu</th>\n",
       "      <td>0.25</td>\n",
       "      <td>36</td>\n",
       "    </tr>\n",
       "  </tbody>\n",
       "</table>\n",
       "</div>"
      ],
      "text/plain": [
       "                                 Discount  Quantity\n",
       "ProductName                                        \n",
       "Jack's New England Clam Chowder      0.25        16\n",
       "Tarte au sucre                       0.25        15\n",
       "Outback Lager                        0.25        21\n",
       "Nord-Ost Matjeshering                0.25        60\n",
       "Longlife Tofu                        0.25        36"
      ]
     },
     "execution_count": 25,
     "metadata": {},
     "output_type": "execute_result"
    }
   ],
   "source": [
    "df.head()"
   ]
  },
  {
   "cell_type": "markdown",
   "metadata": {},
   "source": [
    "To see how influential each discount level is on the quantity ordered of each item, we can create dummies corrresponding to each discount level and use ANOVA on each category."
   ]
  },
  {
   "cell_type": "code",
   "execution_count": 26,
   "metadata": {},
   "outputs": [
    {
     "data": {
      "text/html": [
       "<div>\n",
       "<style scoped>\n",
       "    .dataframe tbody tr th:only-of-type {\n",
       "        vertical-align: middle;\n",
       "    }\n",
       "\n",
       "    .dataframe tbody tr th {\n",
       "        vertical-align: top;\n",
       "    }\n",
       "\n",
       "    .dataframe thead th {\n",
       "        text-align: right;\n",
       "    }\n",
       "</style>\n",
       "<table border=\"1\" class=\"dataframe\">\n",
       "  <thead>\n",
       "    <tr style=\"text-align: right;\">\n",
       "      <th></th>\n",
       "      <th>0.0</th>\n",
       "      <th>0.05</th>\n",
       "      <th>0.1</th>\n",
       "      <th>0.15</th>\n",
       "      <th>0.2</th>\n",
       "      <th>0.25</th>\n",
       "      <th>Quantity</th>\n",
       "    </tr>\n",
       "    <tr>\n",
       "      <th>ProductName</th>\n",
       "      <th></th>\n",
       "      <th></th>\n",
       "      <th></th>\n",
       "      <th></th>\n",
       "      <th></th>\n",
       "      <th></th>\n",
       "      <th></th>\n",
       "    </tr>\n",
       "  </thead>\n",
       "  <tbody>\n",
       "    <tr>\n",
       "      <th>Jack's New England Clam Chowder</th>\n",
       "      <td>0</td>\n",
       "      <td>0</td>\n",
       "      <td>0</td>\n",
       "      <td>0</td>\n",
       "      <td>0</td>\n",
       "      <td>1</td>\n",
       "      <td>16</td>\n",
       "    </tr>\n",
       "    <tr>\n",
       "      <th>Tarte au sucre</th>\n",
       "      <td>0</td>\n",
       "      <td>0</td>\n",
       "      <td>0</td>\n",
       "      <td>0</td>\n",
       "      <td>0</td>\n",
       "      <td>1</td>\n",
       "      <td>15</td>\n",
       "    </tr>\n",
       "    <tr>\n",
       "      <th>Outback Lager</th>\n",
       "      <td>0</td>\n",
       "      <td>0</td>\n",
       "      <td>0</td>\n",
       "      <td>0</td>\n",
       "      <td>0</td>\n",
       "      <td>1</td>\n",
       "      <td>21</td>\n",
       "    </tr>\n",
       "    <tr>\n",
       "      <th>Nord-Ost Matjeshering</th>\n",
       "      <td>0</td>\n",
       "      <td>0</td>\n",
       "      <td>0</td>\n",
       "      <td>0</td>\n",
       "      <td>0</td>\n",
       "      <td>1</td>\n",
       "      <td>60</td>\n",
       "    </tr>\n",
       "    <tr>\n",
       "      <th>Longlife Tofu</th>\n",
       "      <td>0</td>\n",
       "      <td>0</td>\n",
       "      <td>0</td>\n",
       "      <td>0</td>\n",
       "      <td>0</td>\n",
       "      <td>1</td>\n",
       "      <td>36</td>\n",
       "    </tr>\n",
       "  </tbody>\n",
       "</table>\n",
       "</div>"
      ],
      "text/plain": [
       "                                 0.0  0.05  0.1  0.15  0.2  0.25  Quantity\n",
       "ProductName                                                               \n",
       "Jack's New England Clam Chowder    0     0    0     0    0     1        16\n",
       "Tarte au sucre                     0     0    0     0    0     1        15\n",
       "Outback Lager                      0     0    0     0    0     1        21\n",
       "Nord-Ost Matjeshering              0     0    0     0    0     1        60\n",
       "Longlife Tofu                      0     0    0     0    0     1        36"
      ]
     },
     "execution_count": 26,
     "metadata": {},
     "output_type": "execute_result"
    }
   ],
   "source": [
    "#Create dummies for each discount level\n",
    "df_dum= pd.concat([pd.get_dummies(df['Discount']), df['Quantity']], axis = 1)\n",
    "df_dum.head()"
   ]
  },
  {
   "cell_type": "code",
   "execution_count": 27,
   "metadata": {},
   "outputs": [
    {
     "ename": "PatsyError",
     "evalue": "Number of rows mismatch between data argument and C(0.0) (1712 versus 1)\n    Quantity ~ C(0.0)+ C(0.05)+C(0.1)+C(0.15)+C(0.2)+C(0.25)\n               ^^^^^^",
     "output_type": "error",
     "traceback": [
      "\u001b[1;31m---------------------------------------------------------------------------\u001b[0m",
      "\u001b[1;31mPatsyError\u001b[0m                                Traceback (most recent call last)",
      "\u001b[1;32m<ipython-input-27-870ab0420f86>\u001b[0m in \u001b[0;36m<module>\u001b[1;34m()\u001b[0m\n\u001b[0;32m      1\u001b[0m \u001b[0mformula\u001b[0m \u001b[1;33m=\u001b[0m \u001b[1;34m'Quantity ~ C(0.0)+ C(0.05)+C(0.1)+C(0.15)+C(0.2)+C(0.25)'\u001b[0m\u001b[1;33m\u001b[0m\u001b[0m\n\u001b[1;32m----> 2\u001b[1;33m \u001b[0mlm\u001b[0m \u001b[1;33m=\u001b[0m \u001b[0mols\u001b[0m\u001b[1;33m(\u001b[0m\u001b[0mformula\u001b[0m\u001b[1;33m,\u001b[0m \u001b[0mdf_dum\u001b[0m\u001b[1;33m)\u001b[0m\u001b[1;33m.\u001b[0m\u001b[0mfit\u001b[0m\u001b[1;33m(\u001b[0m\u001b[1;33m)\u001b[0m\u001b[1;33m\u001b[0m\u001b[0m\n\u001b[0m\u001b[0;32m      3\u001b[0m \u001b[0mtable\u001b[0m \u001b[1;33m=\u001b[0m \u001b[0msm\u001b[0m\u001b[1;33m.\u001b[0m\u001b[0mstats\u001b[0m\u001b[1;33m.\u001b[0m\u001b[0manova_lm\u001b[0m\u001b[1;33m(\u001b[0m\u001b[0mlm\u001b[0m\u001b[1;33m,\u001b[0m \u001b[0mtyp\u001b[0m\u001b[1;33m=\u001b[0m\u001b[1;36m2\u001b[0m\u001b[1;33m)\u001b[0m\u001b[1;33m\u001b[0m\u001b[0m\n\u001b[0;32m      4\u001b[0m \u001b[0mprint\u001b[0m\u001b[1;33m(\u001b[0m\u001b[0mtable\u001b[0m\u001b[1;33m)\u001b[0m\u001b[1;33m\u001b[0m\u001b[0m\n",
      "\u001b[1;32m~\\Anaconda3\\lib\\site-packages\\statsmodels\\base\\model.py\u001b[0m in \u001b[0;36mfrom_formula\u001b[1;34m(cls, formula, data, subset, drop_cols, *args, **kwargs)\u001b[0m\n\u001b[0;32m    153\u001b[0m \u001b[1;33m\u001b[0m\u001b[0m\n\u001b[0;32m    154\u001b[0m         tmp = handle_formula_data(data, None, formula, depth=eval_env,\n\u001b[1;32m--> 155\u001b[1;33m                                   missing=missing)\n\u001b[0m\u001b[0;32m    156\u001b[0m         \u001b[1;33m(\u001b[0m\u001b[1;33m(\u001b[0m\u001b[0mendog\u001b[0m\u001b[1;33m,\u001b[0m \u001b[0mexog\u001b[0m\u001b[1;33m)\u001b[0m\u001b[1;33m,\u001b[0m \u001b[0mmissing_idx\u001b[0m\u001b[1;33m,\u001b[0m \u001b[0mdesign_info\u001b[0m\u001b[1;33m)\u001b[0m \u001b[1;33m=\u001b[0m \u001b[0mtmp\u001b[0m\u001b[1;33m\u001b[0m\u001b[0m\n\u001b[0;32m    157\u001b[0m \u001b[1;33m\u001b[0m\u001b[0m\n",
      "\u001b[1;32m~\\Anaconda3\\lib\\site-packages\\statsmodels\\formula\\formulatools.py\u001b[0m in \u001b[0;36mhandle_formula_data\u001b[1;34m(Y, X, formula, depth, missing)\u001b[0m\n\u001b[0;32m     63\u001b[0m         \u001b[1;32mif\u001b[0m \u001b[0mdata_util\u001b[0m\u001b[1;33m.\u001b[0m\u001b[0m_is_using_pandas\u001b[0m\u001b[1;33m(\u001b[0m\u001b[0mY\u001b[0m\u001b[1;33m,\u001b[0m \u001b[1;32mNone\u001b[0m\u001b[1;33m)\u001b[0m\u001b[1;33m:\u001b[0m\u001b[1;33m\u001b[0m\u001b[0m\n\u001b[0;32m     64\u001b[0m             result = dmatrices(formula, Y, depth, return_type='dataframe',\n\u001b[1;32m---> 65\u001b[1;33m                                NA_action=na_action)\n\u001b[0m\u001b[0;32m     66\u001b[0m         \u001b[1;32melse\u001b[0m\u001b[1;33m:\u001b[0m\u001b[1;33m\u001b[0m\u001b[0m\n\u001b[0;32m     67\u001b[0m             result = dmatrices(formula, Y, depth, return_type='dataframe',\n",
      "\u001b[1;32m~\\Anaconda3\\lib\\site-packages\\patsy\\highlevel.py\u001b[0m in \u001b[0;36mdmatrices\u001b[1;34m(formula_like, data, eval_env, NA_action, return_type)\u001b[0m\n\u001b[0;32m    308\u001b[0m     \u001b[0meval_env\u001b[0m \u001b[1;33m=\u001b[0m \u001b[0mEvalEnvironment\u001b[0m\u001b[1;33m.\u001b[0m\u001b[0mcapture\u001b[0m\u001b[1;33m(\u001b[0m\u001b[0meval_env\u001b[0m\u001b[1;33m,\u001b[0m \u001b[0mreference\u001b[0m\u001b[1;33m=\u001b[0m\u001b[1;36m1\u001b[0m\u001b[1;33m)\u001b[0m\u001b[1;33m\u001b[0m\u001b[0m\n\u001b[0;32m    309\u001b[0m     (lhs, rhs) = _do_highlevel_design(formula_like, data, eval_env,\n\u001b[1;32m--> 310\u001b[1;33m                                       NA_action, return_type)\n\u001b[0m\u001b[0;32m    311\u001b[0m     \u001b[1;32mif\u001b[0m \u001b[0mlhs\u001b[0m\u001b[1;33m.\u001b[0m\u001b[0mshape\u001b[0m\u001b[1;33m[\u001b[0m\u001b[1;36m1\u001b[0m\u001b[1;33m]\u001b[0m \u001b[1;33m==\u001b[0m \u001b[1;36m0\u001b[0m\u001b[1;33m:\u001b[0m\u001b[1;33m\u001b[0m\u001b[0m\n\u001b[0;32m    312\u001b[0m         \u001b[1;32mraise\u001b[0m \u001b[0mPatsyError\u001b[0m\u001b[1;33m(\u001b[0m\u001b[1;34m\"model is missing required outcome variables\"\u001b[0m\u001b[1;33m)\u001b[0m\u001b[1;33m\u001b[0m\u001b[0m\n",
      "\u001b[1;32m~\\Anaconda3\\lib\\site-packages\\patsy\\highlevel.py\u001b[0m in \u001b[0;36m_do_highlevel_design\u001b[1;34m(formula_like, data, eval_env, NA_action, return_type)\u001b[0m\n\u001b[0;32m    167\u001b[0m         return build_design_matrices(design_infos, data,\n\u001b[0;32m    168\u001b[0m                                      \u001b[0mNA_action\u001b[0m\u001b[1;33m=\u001b[0m\u001b[0mNA_action\u001b[0m\u001b[1;33m,\u001b[0m\u001b[1;33m\u001b[0m\u001b[0m\n\u001b[1;32m--> 169\u001b[1;33m                                      return_type=return_type)\n\u001b[0m\u001b[0;32m    170\u001b[0m     \u001b[1;32melse\u001b[0m\u001b[1;33m:\u001b[0m\u001b[1;33m\u001b[0m\u001b[0m\n\u001b[0;32m    171\u001b[0m         \u001b[1;31m# No builders, but maybe we can still get matrices\u001b[0m\u001b[1;33m\u001b[0m\u001b[1;33m\u001b[0m\u001b[0m\n",
      "\u001b[1;32m~\\Anaconda3\\lib\\site-packages\\patsy\\build.py\u001b[0m in \u001b[0;36mbuild_design_matrices\u001b[1;34m(design_infos, data, NA_action, return_type, dtype)\u001b[0m\n\u001b[0;32m    891\u001b[0m                 \u001b[0mname\u001b[0m \u001b[1;33m=\u001b[0m \u001b[0mfactor_info\u001b[0m\u001b[1;33m.\u001b[0m\u001b[0mfactor\u001b[0m\u001b[1;33m.\u001b[0m\u001b[0mname\u001b[0m\u001b[1;33m(\u001b[0m\u001b[1;33m)\u001b[0m\u001b[1;33m\u001b[0m\u001b[0m\n\u001b[0;32m    892\u001b[0m                 \u001b[0morigin\u001b[0m \u001b[1;33m=\u001b[0m \u001b[0mfactor_info\u001b[0m\u001b[1;33m.\u001b[0m\u001b[0mfactor\u001b[0m\u001b[1;33m.\u001b[0m\u001b[0morigin\u001b[0m\u001b[1;33m\u001b[0m\u001b[0m\n\u001b[1;32m--> 893\u001b[1;33m                 \u001b[0mrows_checker\u001b[0m\u001b[1;33m.\u001b[0m\u001b[0mcheck\u001b[0m\u001b[1;33m(\u001b[0m\u001b[0mvalue\u001b[0m\u001b[1;33m.\u001b[0m\u001b[0mshape\u001b[0m\u001b[1;33m[\u001b[0m\u001b[1;36m0\u001b[0m\u001b[1;33m]\u001b[0m\u001b[1;33m,\u001b[0m \u001b[0mname\u001b[0m\u001b[1;33m,\u001b[0m \u001b[0morigin\u001b[0m\u001b[1;33m)\u001b[0m\u001b[1;33m\u001b[0m\u001b[0m\n\u001b[0m\u001b[0;32m    894\u001b[0m                 if (have_pandas\n\u001b[0;32m    895\u001b[0m                     and isinstance(value, (pandas.Series, pandas.DataFrame))):\n",
      "\u001b[1;32m~\\Anaconda3\\lib\\site-packages\\patsy\\build.py\u001b[0m in \u001b[0;36mcheck\u001b[1;34m(self, seen_value, desc, origin)\u001b[0m\n\u001b[0;32m    793\u001b[0m                 \u001b[1;31m# XX FIXME: this is a case where having discontiguous Origins\u001b[0m\u001b[1;33m\u001b[0m\u001b[1;33m\u001b[0m\u001b[0m\n\u001b[0;32m    794\u001b[0m                 \u001b[1;31m# would be useful...\u001b[0m\u001b[1;33m\u001b[0m\u001b[1;33m\u001b[0m\u001b[0m\n\u001b[1;32m--> 795\u001b[1;33m                 \u001b[1;32mraise\u001b[0m \u001b[0mPatsyError\u001b[0m\u001b[1;33m(\u001b[0m\u001b[0mmsg\u001b[0m\u001b[1;33m,\u001b[0m \u001b[0morigin\u001b[0m\u001b[1;33m)\u001b[0m\u001b[1;33m\u001b[0m\u001b[0m\n\u001b[0m\u001b[0;32m    796\u001b[0m \u001b[1;33m\u001b[0m\u001b[0m\n\u001b[0;32m    797\u001b[0m def build_design_matrices(design_infos, data,\n",
      "\u001b[1;31mPatsyError\u001b[0m: Number of rows mismatch between data argument and C(0.0) (1712 versus 1)\n    Quantity ~ C(0.0)+ C(0.05)+C(0.1)+C(0.15)+C(0.2)+C(0.25)\n               ^^^^^^"
     ]
    }
   ],
   "source": [
    "formula = 'Quantity ~ C(0.0)+ C(0.05)+C(0.1)+C(0.15)+C(0.2)+C(0.25)'\n",
    "lm = ols(formula, df_dum).fit()\n",
    "table = sm.stats.anova_lm(lm, typ=2)\n",
    "print(table)"
   ]
  },
  {
   "cell_type": "markdown",
   "metadata": {},
   "source": [
    "The Patsy Error seems to think that C(0.0) and etc refers to only one row of data. To mitigate this, the columns can be renamed."
   ]
  },
  {
   "cell_type": "code",
   "execution_count": 28,
   "metadata": {},
   "outputs": [
    {
     "data": {
      "text/html": [
       "<div>\n",
       "<style scoped>\n",
       "    .dataframe tbody tr th:only-of-type {\n",
       "        vertical-align: middle;\n",
       "    }\n",
       "\n",
       "    .dataframe tbody tr th {\n",
       "        vertical-align: top;\n",
       "    }\n",
       "\n",
       "    .dataframe thead th {\n",
       "        text-align: right;\n",
       "    }\n",
       "</style>\n",
       "<table border=\"1\" class=\"dataframe\">\n",
       "  <thead>\n",
       "    <tr style=\"text-align: right;\">\n",
       "      <th></th>\n",
       "      <th>zero</th>\n",
       "      <th>five</th>\n",
       "      <th>ten</th>\n",
       "      <th>fifteen</th>\n",
       "      <th>twenty</th>\n",
       "      <th>twenty_five</th>\n",
       "      <th>Quantity</th>\n",
       "    </tr>\n",
       "    <tr>\n",
       "      <th>ProductName</th>\n",
       "      <th></th>\n",
       "      <th></th>\n",
       "      <th></th>\n",
       "      <th></th>\n",
       "      <th></th>\n",
       "      <th></th>\n",
       "      <th></th>\n",
       "    </tr>\n",
       "  </thead>\n",
       "  <tbody>\n",
       "    <tr>\n",
       "      <th>Jack's New England Clam Chowder</th>\n",
       "      <td>0</td>\n",
       "      <td>0</td>\n",
       "      <td>0</td>\n",
       "      <td>0</td>\n",
       "      <td>0</td>\n",
       "      <td>1</td>\n",
       "      <td>16</td>\n",
       "    </tr>\n",
       "    <tr>\n",
       "      <th>Tarte au sucre</th>\n",
       "      <td>0</td>\n",
       "      <td>0</td>\n",
       "      <td>0</td>\n",
       "      <td>0</td>\n",
       "      <td>0</td>\n",
       "      <td>1</td>\n",
       "      <td>15</td>\n",
       "    </tr>\n",
       "    <tr>\n",
       "      <th>Outback Lager</th>\n",
       "      <td>0</td>\n",
       "      <td>0</td>\n",
       "      <td>0</td>\n",
       "      <td>0</td>\n",
       "      <td>0</td>\n",
       "      <td>1</td>\n",
       "      <td>21</td>\n",
       "    </tr>\n",
       "    <tr>\n",
       "      <th>Nord-Ost Matjeshering</th>\n",
       "      <td>0</td>\n",
       "      <td>0</td>\n",
       "      <td>0</td>\n",
       "      <td>0</td>\n",
       "      <td>0</td>\n",
       "      <td>1</td>\n",
       "      <td>60</td>\n",
       "    </tr>\n",
       "    <tr>\n",
       "      <th>Longlife Tofu</th>\n",
       "      <td>0</td>\n",
       "      <td>0</td>\n",
       "      <td>0</td>\n",
       "      <td>0</td>\n",
       "      <td>0</td>\n",
       "      <td>1</td>\n",
       "      <td>36</td>\n",
       "    </tr>\n",
       "  </tbody>\n",
       "</table>\n",
       "</div>"
      ],
      "text/plain": [
       "                                 zero  five  ten  fifteen  twenty  \\\n",
       "ProductName                                                         \n",
       "Jack's New England Clam Chowder     0     0    0        0       0   \n",
       "Tarte au sucre                      0     0    0        0       0   \n",
       "Outback Lager                       0     0    0        0       0   \n",
       "Nord-Ost Matjeshering               0     0    0        0       0   \n",
       "Longlife Tofu                       0     0    0        0       0   \n",
       "\n",
       "                                 twenty_five  Quantity  \n",
       "ProductName                                             \n",
       "Jack's New England Clam Chowder            1        16  \n",
       "Tarte au sucre                             1        15  \n",
       "Outback Lager                              1        21  \n",
       "Nord-Ost Matjeshering                      1        60  \n",
       "Longlife Tofu                              1        36  "
      ]
     },
     "execution_count": 28,
     "metadata": {},
     "output_type": "execute_result"
    }
   ],
   "source": [
    "df_dum.columns = ['zero', 'five', 'ten', 'fifteen', 'twenty', 'twenty_five', 'Quantity']\n",
    "df_dum.head()"
   ]
  },
  {
   "cell_type": "code",
   "execution_count": 29,
   "metadata": {},
   "outputs": [
    {
     "name": "stdout",
     "output_type": "stream",
     "text": [
      "                       sum_sq      df          F    PR(>F)\n",
      "C(five)           4438.876327     1.0  12.737527  0.000368\n",
      "C(ten)             828.216689     1.0   2.376600  0.123351\n",
      "C(fifteen)        7170.787794     1.0  20.576852  0.000006\n",
      "C(twenty)         3706.888428     1.0  10.637059  0.001130\n",
      "C(twenty_five)    3626.052389     1.0  10.405097  0.001280\n",
      "Residual        594520.669218  1706.0        NaN       NaN\n"
     ]
    }
   ],
   "source": [
    "formula = 'Quantity ~ C(five)+C(ten)+C(fifteen)+C(twenty)+C(twenty_five)'\n",
    "lm = ols(formula, df_dum).fit()\n",
    "table = sm.stats.anova_lm(lm, typ=2)\n",
    "print(table)"
   ]
  },
  {
   "cell_type": "markdown",
   "metadata": {},
   "source": [
    "### Table Analysis\n",
    "\n",
    "The table aligns with our results from the t-test and ks-test, but also gives insight on how much each discount category influences the quantity of items purchased. The most influential discount seems to be fifteen percent followed by five percent with barely any differences between twenty and twenty five percent."
   ]
  },
  {
   "cell_type": "markdown",
   "metadata": {},
   "source": [
    "### Q1 Conclusion\n",
    "\n",
    "From these results, it is clear that **discounts do have a statistically significant effect on the number of products consumers order**. Thus, the **null hypothesis is rejected.** However, as with all statistic testing, *correlation does not imply causation*. The ANOVA analysis reveals that a discount of .15 has the greatest effect on quantity ordered, but it would be hasty and fallacious to assume that to be the best way to sell more products. \n",
    "\n",
    "### Further Considerations\n",
    "\n",
    "To better predict what has more of a direct impact on the number of products consumers order, it is necessary to take into account possible multicollinearity. Perhaps some other attribute(s) of the product better explains both why consumers order more of it along with why it is discounted at a certain level. For example, if there is a correlation between shelf life and discount level, consumers might be more hesitant to buy an older product for a more significant discount than a fresher product for less of a discount, which would explain why a discount of .15 seems to have the biggest effect on quantity ordered. With more time and data, it would be possible to discern if such a relationship (and others) exists. "
   ]
  },
  {
   "cell_type": "markdown",
   "metadata": {},
   "source": [
    "## Q2 - Do certain employees do better or worse than others in quantity of items sold in each order? If so, who seems to do the best?\n"
   ]
  },
  {
   "cell_type": "markdown",
   "metadata": {},
   "source": [
    "### 2a. Query Data and join OrderDetail, Order, and Employee"
   ]
  },
  {
   "cell_type": "code",
   "execution_count": 30,
   "metadata": {},
   "outputs": [
    {
     "data": {
      "text/html": [
       "<div>\n",
       "<style scoped>\n",
       "    .dataframe tbody tr th:only-of-type {\n",
       "        vertical-align: middle;\n",
       "    }\n",
       "\n",
       "    .dataframe tbody tr th {\n",
       "        vertical-align: top;\n",
       "    }\n",
       "\n",
       "    .dataframe thead th {\n",
       "        text-align: right;\n",
       "    }\n",
       "</style>\n",
       "<table border=\"1\" class=\"dataframe\">\n",
       "  <thead>\n",
       "    <tr style=\"text-align: right;\">\n",
       "      <th></th>\n",
       "      <th>LastName</th>\n",
       "      <th>FirstName</th>\n",
       "      <th>Id</th>\n",
       "      <th>Quantity</th>\n",
       "    </tr>\n",
       "  </thead>\n",
       "  <tbody>\n",
       "    <tr>\n",
       "      <th>0</th>\n",
       "      <td>Buchanan</td>\n",
       "      <td>Steven</td>\n",
       "      <td>10248</td>\n",
       "      <td>12</td>\n",
       "    </tr>\n",
       "    <tr>\n",
       "      <th>1</th>\n",
       "      <td>Buchanan</td>\n",
       "      <td>Steven</td>\n",
       "      <td>10248</td>\n",
       "      <td>10</td>\n",
       "    </tr>\n",
       "    <tr>\n",
       "      <th>2</th>\n",
       "      <td>Buchanan</td>\n",
       "      <td>Steven</td>\n",
       "      <td>10248</td>\n",
       "      <td>5</td>\n",
       "    </tr>\n",
       "    <tr>\n",
       "      <th>3</th>\n",
       "      <td>Suyama</td>\n",
       "      <td>Michael</td>\n",
       "      <td>10249</td>\n",
       "      <td>9</td>\n",
       "    </tr>\n",
       "    <tr>\n",
       "      <th>4</th>\n",
       "      <td>Suyama</td>\n",
       "      <td>Michael</td>\n",
       "      <td>10249</td>\n",
       "      <td>40</td>\n",
       "    </tr>\n",
       "  </tbody>\n",
       "</table>\n",
       "</div>"
      ],
      "text/plain": [
       "   LastName FirstName     Id  Quantity\n",
       "0  Buchanan    Steven  10248        12\n",
       "1  Buchanan    Steven  10248        10\n",
       "2  Buchanan    Steven  10248         5\n",
       "3    Suyama   Michael  10249         9\n",
       "4    Suyama   Michael  10249        40"
      ]
     },
     "execution_count": 30,
     "metadata": {},
     "output_type": "execute_result"
    }
   ],
   "source": [
    "df2 = pd.read_sql_query(\"\"\"SELECT e.LastName, e.FirstName, o.id, od.Quantity\n",
    "FROM [OrderDetail] od\n",
    "INNER JOIN [Order] o on o.Id = od.OrderId\n",
    "INNER JOIN [Employee] e on e.Id = o.EmployeeId\n",
    "\"\"\" ,engine)\n",
    "\n",
    "df2.head()"
   ]
  },
  {
   "cell_type": "markdown",
   "metadata": {},
   "source": [
    "### 2b. Scrub Data"
   ]
  },
  {
   "cell_type": "code",
   "execution_count": 31,
   "metadata": {},
   "outputs": [
    {
     "data": {
      "text/plain": [
       "LastName     0\n",
       "FirstName    0\n",
       "Id           0\n",
       "Quantity     0\n",
       "dtype: int64"
      ]
     },
     "execution_count": 31,
     "metadata": {},
     "output_type": "execute_result"
    }
   ],
   "source": [
    "df2.isna().sum()"
   ]
  },
  {
   "cell_type": "markdown",
   "metadata": {},
   "source": [
    "Doesn't seem to be any NaN values. Let's check to see if any values are filling in for NaN"
   ]
  },
  {
   "cell_type": "code",
   "execution_count": 32,
   "metadata": {},
   "outputs": [
    {
     "data": {
      "text/html": [
       "<div>\n",
       "<style scoped>\n",
       "    .dataframe tbody tr th:only-of-type {\n",
       "        vertical-align: middle;\n",
       "    }\n",
       "\n",
       "    .dataframe tbody tr th {\n",
       "        vertical-align: top;\n",
       "    }\n",
       "\n",
       "    .dataframe thead th {\n",
       "        text-align: right;\n",
       "    }\n",
       "</style>\n",
       "<table border=\"1\" class=\"dataframe\">\n",
       "  <thead>\n",
       "    <tr style=\"text-align: right;\">\n",
       "      <th></th>\n",
       "      <th>Id</th>\n",
       "      <th>Quantity</th>\n",
       "    </tr>\n",
       "  </thead>\n",
       "  <tbody>\n",
       "    <tr>\n",
       "      <th>count</th>\n",
       "      <td>2155.000000</td>\n",
       "      <td>2155.000000</td>\n",
       "    </tr>\n",
       "    <tr>\n",
       "      <th>mean</th>\n",
       "      <td>10659.375870</td>\n",
       "      <td>23.812993</td>\n",
       "    </tr>\n",
       "    <tr>\n",
       "      <th>std</th>\n",
       "      <td>241.378032</td>\n",
       "      <td>19.022047</td>\n",
       "    </tr>\n",
       "    <tr>\n",
       "      <th>min</th>\n",
       "      <td>10248.000000</td>\n",
       "      <td>1.000000</td>\n",
       "    </tr>\n",
       "    <tr>\n",
       "      <th>25%</th>\n",
       "      <td>10451.000000</td>\n",
       "      <td>10.000000</td>\n",
       "    </tr>\n",
       "    <tr>\n",
       "      <th>50%</th>\n",
       "      <td>10657.000000</td>\n",
       "      <td>20.000000</td>\n",
       "    </tr>\n",
       "    <tr>\n",
       "      <th>75%</th>\n",
       "      <td>10862.500000</td>\n",
       "      <td>30.000000</td>\n",
       "    </tr>\n",
       "    <tr>\n",
       "      <th>max</th>\n",
       "      <td>11077.000000</td>\n",
       "      <td>130.000000</td>\n",
       "    </tr>\n",
       "  </tbody>\n",
       "</table>\n",
       "</div>"
      ],
      "text/plain": [
       "                 Id     Quantity\n",
       "count   2155.000000  2155.000000\n",
       "mean   10659.375870    23.812993\n",
       "std      241.378032    19.022047\n",
       "min    10248.000000     1.000000\n",
       "25%    10451.000000    10.000000\n",
       "50%    10657.000000    20.000000\n",
       "75%    10862.500000    30.000000\n",
       "max    11077.000000   130.000000"
      ]
     },
     "execution_count": 32,
     "metadata": {},
     "output_type": "execute_result"
    }
   ],
   "source": [
    "df2.describe()"
   ]
  },
  {
   "cell_type": "markdown",
   "metadata": {},
   "source": [
    "The Id column is treated as an int, so perhaps conversion to categorical data is needed. However, we can simply use the employee's name as our categorical column. Other than that, there doesn't seem to be any extreme values for quantity."
   ]
  },
  {
   "cell_type": "code",
   "execution_count": 33,
   "metadata": {},
   "outputs": [
    {
     "data": {
      "text/html": [
       "<div>\n",
       "<style scoped>\n",
       "    .dataframe tbody tr th:only-of-type {\n",
       "        vertical-align: middle;\n",
       "    }\n",
       "\n",
       "    .dataframe tbody tr th {\n",
       "        vertical-align: top;\n",
       "    }\n",
       "\n",
       "    .dataframe thead th {\n",
       "        text-align: right;\n",
       "    }\n",
       "</style>\n",
       "<table border=\"1\" class=\"dataframe\">\n",
       "  <thead>\n",
       "    <tr style=\"text-align: right;\">\n",
       "      <th></th>\n",
       "      <th>LastName</th>\n",
       "      <th>FirstName</th>\n",
       "      <th>Id</th>\n",
       "      <th>Quantity</th>\n",
       "      <th>FullName</th>\n",
       "    </tr>\n",
       "  </thead>\n",
       "  <tbody>\n",
       "    <tr>\n",
       "      <th>0</th>\n",
       "      <td>Buchanan</td>\n",
       "      <td>Steven</td>\n",
       "      <td>10248</td>\n",
       "      <td>12</td>\n",
       "      <td>Steven Buchanan</td>\n",
       "    </tr>\n",
       "    <tr>\n",
       "      <th>1</th>\n",
       "      <td>Buchanan</td>\n",
       "      <td>Steven</td>\n",
       "      <td>10248</td>\n",
       "      <td>10</td>\n",
       "      <td>Steven Buchanan</td>\n",
       "    </tr>\n",
       "    <tr>\n",
       "      <th>2</th>\n",
       "      <td>Buchanan</td>\n",
       "      <td>Steven</td>\n",
       "      <td>10248</td>\n",
       "      <td>5</td>\n",
       "      <td>Steven Buchanan</td>\n",
       "    </tr>\n",
       "    <tr>\n",
       "      <th>3</th>\n",
       "      <td>Suyama</td>\n",
       "      <td>Michael</td>\n",
       "      <td>10249</td>\n",
       "      <td>9</td>\n",
       "      <td>Michael Suyama</td>\n",
       "    </tr>\n",
       "    <tr>\n",
       "      <th>4</th>\n",
       "      <td>Suyama</td>\n",
       "      <td>Michael</td>\n",
       "      <td>10249</td>\n",
       "      <td>40</td>\n",
       "      <td>Michael Suyama</td>\n",
       "    </tr>\n",
       "  </tbody>\n",
       "</table>\n",
       "</div>"
      ],
      "text/plain": [
       "   LastName FirstName     Id  Quantity         FullName\n",
       "0  Buchanan    Steven  10248        12  Steven Buchanan\n",
       "1  Buchanan    Steven  10248        10  Steven Buchanan\n",
       "2  Buchanan    Steven  10248         5  Steven Buchanan\n",
       "3    Suyama   Michael  10249         9   Michael Suyama\n",
       "4    Suyama   Michael  10249        40   Michael Suyama"
      ]
     },
     "execution_count": 33,
     "metadata": {},
     "output_type": "execute_result"
    }
   ],
   "source": [
    "#For readability, a full name column can be used. \n",
    "df2['FullName'] = df2['FirstName'] + ' ' +df2['LastName']\n",
    "df2.head()"
   ]
  },
  {
   "cell_type": "markdown",
   "metadata": {},
   "source": [
    "### 2c. Establishing Null & Alternative Hypotheses\n",
    "\n",
    "Unlike question #1, it is difficult to determine what should be the control group. After all, *any* employee will have an impact on the amount of items sold when compared to zero employees. In answering the question #2, null and alternative hypothesis can be reframed around any single employee as a control variable. After all, if employee A sells a different amount of product than employees B, C, and etc., then the primary question posed in this section will be answered--specific employees vary in their performance. \n",
    "\n",
    "**Null hypothesis ($H_0$ )**: Employee A performs equally the same in quantity of items sold as all other employees.\n",
    "\n",
    "**Alternative hypothesis $H_A$** : Employee A performs better or worse in quantity of items sold compared to all other empoloyees.\n",
    "\n",
    "A **two-tailed test** is appropriate since we are considering that Employee A may perform better or worse."
   ]
  },
  {
   "cell_type": "markdown",
   "metadata": {},
   "source": [
    "### 2d. Conduct Statistical Tests"
   ]
  },
  {
   "cell_type": "code",
   "execution_count": 34,
   "metadata": {},
   "outputs": [
    {
     "data": {
      "text/plain": [
       "array(['Steven Buchanan', 'Michael Suyama', 'Margaret Peacock',\n",
       "       'Janet Leverling', 'Anne Dodsworth', 'Nancy Davolio',\n",
       "       'Laura Callahan', 'Andrew Fuller', 'Robert King'], dtype=object)"
      ]
     },
     "execution_count": 34,
     "metadata": {},
     "output_type": "execute_result"
    }
   ],
   "source": [
    "df2.FullName.unique()"
   ]
  },
  {
   "cell_type": "code",
   "execution_count": 35,
   "metadata": {},
   "outputs": [
    {
     "data": {
      "text/html": [
       "<div>\n",
       "<style scoped>\n",
       "    .dataframe tbody tr th:only-of-type {\n",
       "        vertical-align: middle;\n",
       "    }\n",
       "\n",
       "    .dataframe tbody tr th {\n",
       "        vertical-align: top;\n",
       "    }\n",
       "\n",
       "    .dataframe thead th {\n",
       "        text-align: right;\n",
       "    }\n",
       "</style>\n",
       "<table border=\"1\" class=\"dataframe\">\n",
       "  <thead>\n",
       "    <tr style=\"text-align: right;\">\n",
       "      <th></th>\n",
       "      <th>LastName</th>\n",
       "      <th>FirstName</th>\n",
       "      <th>Id</th>\n",
       "      <th>Quantity</th>\n",
       "      <th>FullName</th>\n",
       "    </tr>\n",
       "  </thead>\n",
       "  <tbody>\n",
       "    <tr>\n",
       "      <th>0</th>\n",
       "      <td>Buchanan</td>\n",
       "      <td>Steven</td>\n",
       "      <td>10248</td>\n",
       "      <td>12</td>\n",
       "      <td>Steven Buchanan</td>\n",
       "    </tr>\n",
       "    <tr>\n",
       "      <th>1</th>\n",
       "      <td>Buchanan</td>\n",
       "      <td>Steven</td>\n",
       "      <td>10248</td>\n",
       "      <td>10</td>\n",
       "      <td>Steven Buchanan</td>\n",
       "    </tr>\n",
       "    <tr>\n",
       "      <th>2</th>\n",
       "      <td>Buchanan</td>\n",
       "      <td>Steven</td>\n",
       "      <td>10248</td>\n",
       "      <td>5</td>\n",
       "      <td>Steven Buchanan</td>\n",
       "    </tr>\n",
       "    <tr>\n",
       "      <th>3</th>\n",
       "      <td>Suyama</td>\n",
       "      <td>Michael</td>\n",
       "      <td>10249</td>\n",
       "      <td>9</td>\n",
       "      <td>Michael Suyama</td>\n",
       "    </tr>\n",
       "    <tr>\n",
       "      <th>4</th>\n",
       "      <td>Suyama</td>\n",
       "      <td>Michael</td>\n",
       "      <td>10249</td>\n",
       "      <td>40</td>\n",
       "      <td>Michael Suyama</td>\n",
       "    </tr>\n",
       "  </tbody>\n",
       "</table>\n",
       "</div>"
      ],
      "text/plain": [
       "   LastName FirstName     Id  Quantity         FullName\n",
       "0  Buchanan    Steven  10248        12  Steven Buchanan\n",
       "1  Buchanan    Steven  10248        10  Steven Buchanan\n",
       "2  Buchanan    Steven  10248         5  Steven Buchanan\n",
       "3    Suyama   Michael  10249         9   Michael Suyama\n",
       "4    Suyama   Michael  10249        40   Michael Suyama"
      ]
     },
     "execution_count": 35,
     "metadata": {},
     "output_type": "execute_result"
    }
   ],
   "source": [
    "df2.head()"
   ]
  },
  {
   "cell_type": "code",
   "execution_count": 36,
   "metadata": {},
   "outputs": [],
   "source": [
    "#For the control, we can select any employee arbitrarily. In this case, it will be Margaret Peacock\n",
    "control2 = df2[df2['LastName'] == 'Peacock']\n"
   ]
  },
  {
   "cell_type": "code",
   "execution_count": 37,
   "metadata": {},
   "outputs": [
    {
     "name": "stdout",
     "output_type": "stream",
     "text": [
      "P-value for employee Buchanan for Quantity is 0.18098596469244474. The t-statistic is 1.3394714684959677\n",
      "P-value for employee Suyama for Quantity is 0.14938330192584232. The t-statistic is -1.4436092211715257\n",
      "P-value for employee Peacock for Quantity is 1.0. The t-statistic is 0.0\n",
      "P-value for employee Leverling for Quantity is 0.40238909759235353. The t-statistic is 0.8378442050835527\n",
      "P-value for employee Dodsworth for Quantity is 0.4072886690148467. The t-statistic is 0.8293405073588414\n",
      "P-value for employee Davolio for Quantity is 0.6165470921269637. The t-statistic is -0.5009552603396032\n",
      "P-value for employee Callahan for Quantity is 0.6777180891307932. The t-statistic is -0.4157587670902297\n",
      "P-value for employee Fuller for Quantity is 0.24935266755867483. The t-statistic is 1.1529408903107266\n",
      "P-value for employee King for Quantity is 0.06934971376089094. The t-statistic is 1.8194261140084604\n"
     ]
    }
   ],
   "source": [
    "#List of employees by last name\n",
    "emp_list = list(df2.LastName.unique())\n",
    "\n",
    "#store results here\n",
    "t_test_results = []\n",
    "\n",
    "#runs two-sample t-test on every employee with Ms. Peacock\n",
    "for employee in emp_list:\n",
    "    result = stats.ttest_ind(df2[df2['LastName']==employee]['Quantity'], control2['Quantity'])\n",
    "    t_test_results.append([employee,result])\n",
    "    print('P-value for employee {} for {} is {}. The t-statistic is {}'.format(employee, var ,result[1], result[0]))\n",
    "        "
   ]
  },
  {
   "cell_type": "markdown",
   "metadata": {},
   "source": [
    "The results reveal two things. First, the t-statistic indicates how much better or worse the individual in question does in sales compared to Ms. Peacock- the control variable. Second, the p-value corresponds with the confidence in which the two samples are statistically different, since 1-p equals confidence. For example, the t-statistic for King suggests he performs better in sales than Ms. Peacock with a confidence level of about 93%. This is a little less the usual accepted value of 95%, but can still provide a clear image of Ms. Peacock's general performance compared to her peers. However, the null hypothesis cannot be rejected with Ms. Peacock as the control."
   ]
  },
  {
   "cell_type": "markdown",
   "metadata": {},
   "source": [
    "### Repeat T-Test with Suyama\n",
    "\n",
    "According to the t-score, Suyama seems to do perceivably worse than his peers. Perhaps repeating a t-test with Suyama as the control will allow for a rejection of the null hypothesis."
   ]
  },
  {
   "cell_type": "code",
   "execution_count": 38,
   "metadata": {},
   "outputs": [
    {
     "name": "stdout",
     "output_type": "stream",
     "text": [
      "P-value for employee Buchanan for Quantity is 0.02666223080052856. The t-statistic is 2.2280627673097073\n",
      "P-value for employee Suyama for Quantity is 1.0. The t-statistic is 0.0\n",
      "P-value for employee Peacock for Quantity is 0.14938330192584232. The t-statistic is 1.4436092211715257\n",
      "P-value for employee Leverling for Quantity is 0.0417044738709792. The t-statistic is 2.0418519367466623\n",
      "P-value for employee Dodsworth for Quantity is 0.06420736715610872. The t-statistic is 1.8582673747348462\n",
      "P-value for employee Davolio for Quantity is 0.3499801180018812. The t-statistic is 0.9354853112244217\n",
      "P-value for employee Callahan for Quantity is 0.3044303487476871. The t-statistic is 1.0282188415602604\n",
      "P-value for employee Fuller for Quantity is 0.035263198719247525. The t-statistic is 2.112371016157483\n",
      "P-value for employee King for Quantity is 0.008630450259072192. The t-statistic is 2.6416009886003975\n"
     ]
    }
   ],
   "source": [
    "#sets control group to Suyama\n",
    "control2= df2[df2['LastName'] == 'Suyama']\n",
    "\n",
    "t_test_results = []\n",
    "\n",
    "#runs two-sample t-test on every employee with Suyama\n",
    "for employee in emp_list:\n",
    "    result = stats.ttest_ind(df2[df2['LastName']==employee]['Quantity'], control2['Quantity'])\n",
    "    t_test_results.append([employee,result])\n",
    "    print('P-value for employee {} for {} is {}. The t-statistic is {}'.format(employee, var ,result[1], result[0]))"
   ]
  },
  {
   "cell_type": "markdown",
   "metadata": {},
   "source": [
    "With Suyama as the control, the **the null hypothesis is rejected** since Buchanan, Leverling, Fuller, and King all perform significantly better than Suyama. This also answers question #2, since it is clear that certain employees do perform better than other. The data suggests that King performs the best, but for testing the effect of multiple groups (employees) at once, ANOVA would be the best approach. "
   ]
  },
  {
   "cell_type": "markdown",
   "metadata": {},
   "source": [
    "### Testing with ANOVA\n",
    "\n",
    "However, the important question is how each person performs individually without direct comparison to any specific employee. This requires using ANOVA, as the test allows for testing the effects of three or more groups. Specifically, a type 2 ANOVA will be conducted, since no interaction between employees will be assumed. This may arguably not be true in real life, but it would be a good assumption that no employee's success or failure interfered with the others'."
   ]
  },
  {
   "cell_type": "code",
   "execution_count": 39,
   "metadata": {},
   "outputs": [
    {
     "data": {
      "text/html": [
       "<div>\n",
       "<style scoped>\n",
       "    .dataframe tbody tr th:only-of-type {\n",
       "        vertical-align: middle;\n",
       "    }\n",
       "\n",
       "    .dataframe tbody tr th {\n",
       "        vertical-align: top;\n",
       "    }\n",
       "\n",
       "    .dataframe thead th {\n",
       "        text-align: right;\n",
       "    }\n",
       "</style>\n",
       "<table border=\"1\" class=\"dataframe\">\n",
       "  <thead>\n",
       "    <tr style=\"text-align: right;\">\n",
       "      <th></th>\n",
       "      <th>Buchanan</th>\n",
       "      <th>Callahan</th>\n",
       "      <th>Davolio</th>\n",
       "      <th>Dodsworth</th>\n",
       "      <th>Fuller</th>\n",
       "      <th>King</th>\n",
       "      <th>Leverling</th>\n",
       "      <th>Peacock</th>\n",
       "      <th>Suyama</th>\n",
       "      <th>Quantity</th>\n",
       "    </tr>\n",
       "  </thead>\n",
       "  <tbody>\n",
       "    <tr>\n",
       "      <th>0</th>\n",
       "      <td>1</td>\n",
       "      <td>0</td>\n",
       "      <td>0</td>\n",
       "      <td>0</td>\n",
       "      <td>0</td>\n",
       "      <td>0</td>\n",
       "      <td>0</td>\n",
       "      <td>0</td>\n",
       "      <td>0</td>\n",
       "      <td>12</td>\n",
       "    </tr>\n",
       "    <tr>\n",
       "      <th>1</th>\n",
       "      <td>1</td>\n",
       "      <td>0</td>\n",
       "      <td>0</td>\n",
       "      <td>0</td>\n",
       "      <td>0</td>\n",
       "      <td>0</td>\n",
       "      <td>0</td>\n",
       "      <td>0</td>\n",
       "      <td>0</td>\n",
       "      <td>10</td>\n",
       "    </tr>\n",
       "    <tr>\n",
       "      <th>2</th>\n",
       "      <td>1</td>\n",
       "      <td>0</td>\n",
       "      <td>0</td>\n",
       "      <td>0</td>\n",
       "      <td>0</td>\n",
       "      <td>0</td>\n",
       "      <td>0</td>\n",
       "      <td>0</td>\n",
       "      <td>0</td>\n",
       "      <td>5</td>\n",
       "    </tr>\n",
       "    <tr>\n",
       "      <th>3</th>\n",
       "      <td>0</td>\n",
       "      <td>0</td>\n",
       "      <td>0</td>\n",
       "      <td>0</td>\n",
       "      <td>0</td>\n",
       "      <td>0</td>\n",
       "      <td>0</td>\n",
       "      <td>0</td>\n",
       "      <td>1</td>\n",
       "      <td>9</td>\n",
       "    </tr>\n",
       "    <tr>\n",
       "      <th>4</th>\n",
       "      <td>0</td>\n",
       "      <td>0</td>\n",
       "      <td>0</td>\n",
       "      <td>0</td>\n",
       "      <td>0</td>\n",
       "      <td>0</td>\n",
       "      <td>0</td>\n",
       "      <td>0</td>\n",
       "      <td>1</td>\n",
       "      <td>40</td>\n",
       "    </tr>\n",
       "  </tbody>\n",
       "</table>\n",
       "</div>"
      ],
      "text/plain": [
       "   Buchanan  Callahan  Davolio  Dodsworth  Fuller  King  Leverling  Peacock  \\\n",
       "0         1         0        0          0       0     0          0        0   \n",
       "1         1         0        0          0       0     0          0        0   \n",
       "2         1         0        0          0       0     0          0        0   \n",
       "3         0         0        0          0       0     0          0        0   \n",
       "4         0         0        0          0       0     0          0        0   \n",
       "\n",
       "   Suyama  Quantity  \n",
       "0       0        12  \n",
       "1       0        10  \n",
       "2       0         5  \n",
       "3       1         9  \n",
       "4       1        40  "
      ]
     },
     "execution_count": 39,
     "metadata": {},
     "output_type": "execute_result"
    }
   ],
   "source": [
    "#Since each employee is essentially a category, dummies will be created for each\n",
    "df2_dum= pd.concat([pd.get_dummies(df2['LastName']), df2['Quantity']], axis = 1)\n",
    "\n",
    "df2_dum.head()"
   ]
  },
  {
   "cell_type": "code",
   "execution_count": 40,
   "metadata": {},
   "outputs": [
    {
     "name": "stdout",
     "output_type": "stream",
     "text": [
      "                     sum_sq      df          F    PR(>F)\n",
      "C(Buchanan)     2516.118829     1.0   6.969404  0.008352\n",
      "C(Suyama)         85.943519     1.0   0.238055  0.625664\n",
      "C(Peacock)      1172.237111     1.0   3.246983  0.071695\n",
      "C(Leverling)    2650.970597     1.0   7.342931  0.006786\n",
      "C(Dodsworth)    1363.425693     1.0   3.776557  0.052106\n",
      "C(Davolio)       345.408958     1.0   0.956749  0.328118\n",
      "C(Callahan)      328.876262     1.0   0.910955  0.339969\n",
      "C(Fuller)       3169.243807     1.0   8.778497  0.003082\n",
      "C(King)         4564.060611     1.0  12.642004  0.000385\n",
      "Residual      774756.452913  2146.0        NaN       NaN\n"
     ]
    }
   ],
   "source": [
    "#For a for-loop through the names list to create the formula\n",
    "formula = 'Quantity ~ C(Buchanan)'\n",
    "for name in list(df2.LastName.unique()[1:]):\n",
    "    formula += '+ C({})'.format(name)\n",
    "    \n",
    "#Run formula through ANOVA\n",
    "formula\n",
    "lm = ols(formula, df2_dum).fit()\n",
    "table = sm.stats.anova_lm(lm, typ=2)\n",
    "print(table)"
   ]
  },
  {
   "cell_type": "markdown",
   "metadata": {},
   "source": [
    "### Q2 Conclusion\n",
    "\n",
    "The results concur with the previous t-tests about who performs relatively worse and better than Ms. Peacock. However, the p-value here allows a more direct interpretation about the effects of each employee. \n",
    "- In terms of statistical significance, Buchanan, Leverling, Fuller, and King (and almost Dodsworth) all had a significant impact on the quantity of items sold. \n",
    "- King seemed to have the biggest effect followed by Fuller, Leverling and Buchanan.\n",
    "- Suyama, Davolio, and Callahan have a statistically insignificant impact on the quantity sold.\n",
    "- Ms. Peacock and Mr. Dodsworth came close to the threshold of being statistically significant."
   ]
  },
  {
   "cell_type": "markdown",
   "metadata": {},
   "source": [
    "### Q2 Further Considerations\n",
    "\n",
    "Each employee's access to clients is also a pretty important consideration. It may be that King sells more product than Suyama, but that may not be impressive if King's territories are all metropolitan areas while Suyama works in rural areas. Furthermore, the sheer quantity of product does not reflect the overall net revenue brought in by each employee. Having, for example, item cost and item sales price, would allow for a more fair comparison of how much money each employee generates."
   ]
  },
  {
   "cell_type": "markdown",
   "metadata": {},
   "source": [
    "## Q3 - Do consumers buy certain categories of items more than other? If so, which categories?\n"
   ]
  },
  {
   "cell_type": "markdown",
   "metadata": {},
   "source": [
    "### 3a. Query Data\n",
    "Join OrderDetail, Product, and Category table to select category names and respective quantites from each category."
   ]
  },
  {
   "cell_type": "code",
   "execution_count": 41,
   "metadata": {},
   "outputs": [
    {
     "data": {
      "text/html": [
       "<div>\n",
       "<style scoped>\n",
       "    .dataframe tbody tr th:only-of-type {\n",
       "        vertical-align: middle;\n",
       "    }\n",
       "\n",
       "    .dataframe tbody tr th {\n",
       "        vertical-align: top;\n",
       "    }\n",
       "\n",
       "    .dataframe thead th {\n",
       "        text-align: right;\n",
       "    }\n",
       "</style>\n",
       "<table border=\"1\" class=\"dataframe\">\n",
       "  <thead>\n",
       "    <tr style=\"text-align: right;\">\n",
       "      <th></th>\n",
       "      <th>CategoryName</th>\n",
       "      <th>Description</th>\n",
       "      <th>Quantity</th>\n",
       "      <th>Id</th>\n",
       "    </tr>\n",
       "  </thead>\n",
       "  <tbody>\n",
       "    <tr>\n",
       "      <th>0</th>\n",
       "      <td>Beverages</td>\n",
       "      <td>Soft drinks, coffees, teas, beers, and ales</td>\n",
       "      <td>42</td>\n",
       "      <td>1</td>\n",
       "    </tr>\n",
       "    <tr>\n",
       "      <th>1</th>\n",
       "      <td>Beverages</td>\n",
       "      <td>Soft drinks, coffees, teas, beers, and ales</td>\n",
       "      <td>15</td>\n",
       "      <td>1</td>\n",
       "    </tr>\n",
       "    <tr>\n",
       "      <th>2</th>\n",
       "      <td>Beverages</td>\n",
       "      <td>Soft drinks, coffees, teas, beers, and ales</td>\n",
       "      <td>20</td>\n",
       "      <td>1</td>\n",
       "    </tr>\n",
       "    <tr>\n",
       "      <th>3</th>\n",
       "      <td>Beverages</td>\n",
       "      <td>Soft drinks, coffees, teas, beers, and ales</td>\n",
       "      <td>6</td>\n",
       "      <td>1</td>\n",
       "    </tr>\n",
       "    <tr>\n",
       "      <th>4</th>\n",
       "      <td>Beverages</td>\n",
       "      <td>Soft drinks, coffees, teas, beers, and ales</td>\n",
       "      <td>50</td>\n",
       "      <td>1</td>\n",
       "    </tr>\n",
       "  </tbody>\n",
       "</table>\n",
       "</div>"
      ],
      "text/plain": [
       "  CategoryName                                  Description  Quantity  Id\n",
       "0    Beverages  Soft drinks, coffees, teas, beers, and ales        42   1\n",
       "1    Beverages  Soft drinks, coffees, teas, beers, and ales        15   1\n",
       "2    Beverages  Soft drinks, coffees, teas, beers, and ales        20   1\n",
       "3    Beverages  Soft drinks, coffees, teas, beers, and ales         6   1\n",
       "4    Beverages  Soft drinks, coffees, teas, beers, and ales        50   1"
      ]
     },
     "execution_count": 41,
     "metadata": {},
     "output_type": "execute_result"
    }
   ],
   "source": [
    "df3 = pd.read_sql_query('''SELECT c.CategoryName, c.Description, od.Quantity, c.Id FROM [OrderDetail] od\n",
    "JOIN [Product] p on od.ProductId = p.Id \n",
    "JOIN [Category] c on p.CategoryId = c.Id\n",
    "ORDER BY c.Id''',engine)\n",
    "\n",
    "df3.head()"
   ]
  },
  {
   "cell_type": "markdown",
   "metadata": {},
   "source": [
    "### 3b. Scrub Data"
   ]
  },
  {
   "cell_type": "code",
   "execution_count": 42,
   "metadata": {},
   "outputs": [
    {
     "data": {
      "text/plain": [
       "CategoryName    0\n",
       "Description     0\n",
       "Quantity        0\n",
       "Id              0\n",
       "dtype: int64"
      ]
     },
     "execution_count": 42,
     "metadata": {},
     "output_type": "execute_result"
    }
   ],
   "source": [
    "df3.isna().sum()"
   ]
  },
  {
   "cell_type": "markdown",
   "metadata": {},
   "source": [
    "No null values found. In addition, Id seems to be a moot point, so it will not be considered in future statistical tests."
   ]
  },
  {
   "cell_type": "markdown",
   "metadata": {},
   "source": [
    "### 3c. Establishing Null and Alternative Hypothesis\n",
    "\n",
    "Like question #2, the control group will have to be arbitrarily chosen. In this case, it will be beverage starting off. However, the control group can simply be changed and tests can be repeated as done in #2 to detect any significant differences between item categories.\n",
    "\n",
    "**Null hypothesis ($H_0$ )**: The control group performs equally the same in quantity of items sold as all other categories.\n",
    "\n",
    "**Alternative hypothesis $H_A$** : Employee A performs better or worse in quantity of items sold compared to all other categories.\n",
    "\n",
    "A **two-tailed test** is appropriate since we are considering that the control may perform better or worse."
   ]
  },
  {
   "cell_type": "markdown",
   "metadata": {},
   "source": [
    "### 3d. Statistical Testing"
   ]
  },
  {
   "cell_type": "code",
   "execution_count": 56,
   "metadata": {},
   "outputs": [
    {
     "data": {
      "text/plain": [
       "array(['Beverages', 'Condiments', 'Confections', 'Dairy Products',\n",
       "       'Grains/Cereals', 'Meat/Poultry', 'Produce', 'Seafood'],\n",
       "      dtype=object)"
      ]
     },
     "execution_count": 56,
     "metadata": {},
     "output_type": "execute_result"
    }
   ],
   "source": [
    "df3.CategoryName.unique()"
   ]
  },
  {
   "cell_type": "markdown",
   "metadata": {},
   "source": [
    "### T-Test"
   ]
  },
  {
   "cell_type": "code",
   "execution_count": 45,
   "metadata": {},
   "outputs": [
    {
     "name": "stdout",
     "output_type": "stream",
     "text": [
      "P-value for employee Beverages for Quantity is 1.0. The t-statistic is 0.0\n",
      "P-value for employee Condiments for Quantity is 0.5684473441892319. The t-statistic is 0.5706455693695196\n",
      "P-value for employee Confections for Quantity is 0.9550338599469655. The t-statistic is 0.056405781688004517\n",
      "P-value for employee Dairy Products for Quantity is 0.30699035235174804. The t-statistic is 1.022237583707937\n",
      "P-value for employee Grains/Cereals for Quantity is 0.8466353989800597. The t-statistic is -0.1934970772917259\n",
      "P-value for employee Meat/Poultry for Quantity is 0.7117398551247558. The t-statistic is 0.36970308050720474\n",
      "P-value for employee Produce for Quantity is 0.39447034231166644. The t-statistic is -0.8522215496277242\n",
      "P-value for employee Seafood for Quantity is 0.8232238155068803. The t-statistic is -0.22348062200554564\n"
     ]
    }
   ],
   "source": [
    "#sets control to beverages\n",
    "control3 = df3[df3['CategoryName'] == 'Beverages']\n",
    "\n",
    "t_test_results = []\n",
    "\n",
    "cat_list = list(df3.CategoryName.unique())\n",
    "\n",
    "#runs two-sample t-test on every category against Beverages\n",
    "for category in cat_list:\n",
    "    result = stats.ttest_ind(df3[df3['CategoryName']==category]['Quantity'], control3['Quantity'])\n",
    "    t_test_results.append([category,result])\n",
    "    print('P-value for employee {} for {} is {}. The t-statistic is {}'.format(category, var ,result[1], result[0]))"
   ]
  },
  {
   "cell_type": "markdown",
   "metadata": {},
   "source": [
    "With *beverages* as the control, the **null hypothesis is accepted** for grouping of food categories. However, the t-score shown by produce suggest it sells the lowest compared to other categories, so perhaps there may be a significant result if it becomes the control group"
   ]
  },
  {
   "cell_type": "markdown",
   "metadata": {},
   "source": [
    "### T-Test with Produce as Control"
   ]
  },
  {
   "cell_type": "code",
   "execution_count": 46,
   "metadata": {},
   "outputs": [
    {
     "name": "stdout",
     "output_type": "stream",
     "text": [
      "P-value for employee Beverages for Quantity is 0.39447034231166644. The t-statistic is 0.8522215496277242\n",
      "P-value for employee Condiments for Quantity is 0.22916528861243896. The t-statistic is 1.204616557575513\n",
      "P-value for employee Confections for Quantity is 0.3477180633522532. The t-statistic is 0.9399695613495002\n",
      "P-value for employee Dairy Products for Quantity is 0.10966251588018955. The t-statistic is 1.6025637449772276\n",
      "P-value for employee Grains/Cereals for Quantity is 0.5291367739990306. The t-statistic is 0.629990478016996\n",
      "P-value for employee Meat/Poultry for Quantity is 0.33530032056189885. The t-statistic is 0.965008036788394\n",
      "P-value for employee Produce for Quantity is 1.0. The t-statistic is 0.0\n",
      "P-value for employee Seafood for Quantity is 0.5047002759339202. The t-statistic is 0.6676322576392099\n"
     ]
    }
   ],
   "source": [
    "#sets control to Produce\n",
    "control3 = df3[df3['CategoryName'] == 'Produce']\n",
    "\n",
    "t_test_results = []\n",
    "\n",
    "cat_list = list(df3.CategoryName.unique())\n",
    "\n",
    "#runs two-sample t-test on every category against Produce\n",
    "for category in cat_list:\n",
    "    result = stats.ttest_ind(df3[df3['CategoryName']==category]['Quantity'], control3['Quantity'])\n",
    "    t_test_results.append([category,result])\n",
    "    print('P-value for employee {} for {} is {}. The t-statistic is {}'.format(category, var ,result[1], result[0]))"
   ]
  },
  {
   "cell_type": "markdown",
   "metadata": {},
   "source": [
    "Testing between produce and Dairy products almost produce a significant difference, but it still falls short of the accepted .05 alpha level. Therefore, the **null hypothesis is still accepted**, and reject the notion that, between any two items, consumers may necessarily prefer one over the other. \n",
    "\n",
    "However, the limitation of t-testing is the singular focus on only two groups. For anything more, ANOVA must be used"
   ]
  },
  {
   "cell_type": "markdown",
   "metadata": {},
   "source": [
    "### Testing with ANOVA"
   ]
  },
  {
   "cell_type": "code",
   "execution_count": 47,
   "metadata": {},
   "outputs": [
    {
     "data": {
      "text/html": [
       "<div>\n",
       "<style scoped>\n",
       "    .dataframe tbody tr th:only-of-type {\n",
       "        vertical-align: middle;\n",
       "    }\n",
       "\n",
       "    .dataframe tbody tr th {\n",
       "        vertical-align: top;\n",
       "    }\n",
       "\n",
       "    .dataframe thead th {\n",
       "        text-align: right;\n",
       "    }\n",
       "</style>\n",
       "<table border=\"1\" class=\"dataframe\">\n",
       "  <thead>\n",
       "    <tr style=\"text-align: right;\">\n",
       "      <th></th>\n",
       "      <th>Beverages</th>\n",
       "      <th>Condiments</th>\n",
       "      <th>Confections</th>\n",
       "      <th>Dairy Products</th>\n",
       "      <th>Grains/Cereals</th>\n",
       "      <th>Meat/Poultry</th>\n",
       "      <th>Produce</th>\n",
       "      <th>Seafood</th>\n",
       "      <th>Quantity</th>\n",
       "    </tr>\n",
       "  </thead>\n",
       "  <tbody>\n",
       "    <tr>\n",
       "      <th>0</th>\n",
       "      <td>1</td>\n",
       "      <td>0</td>\n",
       "      <td>0</td>\n",
       "      <td>0</td>\n",
       "      <td>0</td>\n",
       "      <td>0</td>\n",
       "      <td>0</td>\n",
       "      <td>0</td>\n",
       "      <td>42</td>\n",
       "    </tr>\n",
       "    <tr>\n",
       "      <th>1</th>\n",
       "      <td>1</td>\n",
       "      <td>0</td>\n",
       "      <td>0</td>\n",
       "      <td>0</td>\n",
       "      <td>0</td>\n",
       "      <td>0</td>\n",
       "      <td>0</td>\n",
       "      <td>0</td>\n",
       "      <td>15</td>\n",
       "    </tr>\n",
       "    <tr>\n",
       "      <th>2</th>\n",
       "      <td>1</td>\n",
       "      <td>0</td>\n",
       "      <td>0</td>\n",
       "      <td>0</td>\n",
       "      <td>0</td>\n",
       "      <td>0</td>\n",
       "      <td>0</td>\n",
       "      <td>0</td>\n",
       "      <td>20</td>\n",
       "    </tr>\n",
       "    <tr>\n",
       "      <th>3</th>\n",
       "      <td>1</td>\n",
       "      <td>0</td>\n",
       "      <td>0</td>\n",
       "      <td>0</td>\n",
       "      <td>0</td>\n",
       "      <td>0</td>\n",
       "      <td>0</td>\n",
       "      <td>0</td>\n",
       "      <td>6</td>\n",
       "    </tr>\n",
       "    <tr>\n",
       "      <th>4</th>\n",
       "      <td>1</td>\n",
       "      <td>0</td>\n",
       "      <td>0</td>\n",
       "      <td>0</td>\n",
       "      <td>0</td>\n",
       "      <td>0</td>\n",
       "      <td>0</td>\n",
       "      <td>0</td>\n",
       "      <td>50</td>\n",
       "    </tr>\n",
       "  </tbody>\n",
       "</table>\n",
       "</div>"
      ],
      "text/plain": [
       "   Beverages  Condiments  Confections  Dairy Products  Grains/Cereals  \\\n",
       "0          1           0            0               0               0   \n",
       "1          1           0            0               0               0   \n",
       "2          1           0            0               0               0   \n",
       "3          1           0            0               0               0   \n",
       "4          1           0            0               0               0   \n",
       "\n",
       "   Meat/Poultry  Produce  Seafood  Quantity  \n",
       "0             0        0        0        42  \n",
       "1             0        0        0        15  \n",
       "2             0        0        0        20  \n",
       "3             0        0        0         6  \n",
       "4             0        0        0        50  "
      ]
     },
     "execution_count": 47,
     "metadata": {},
     "output_type": "execute_result"
    }
   ],
   "source": [
    "#Since each item category is essentially a category type, dummies will be created for each\n",
    "df3_dum= pd.concat([pd.get_dummies(df3['CategoryName']), df3['Quantity']], axis = 1)\n",
    "\n",
    "df3_dum.head()"
   ]
  },
  {
   "cell_type": "code",
   "execution_count": 48,
   "metadata": {},
   "outputs": [
    {
     "ename": "SyntaxError",
     "evalue": "invalid syntax (<unknown>, line 1)",
     "output_type": "error",
     "traceback": [
      "Traceback \u001b[1;36m(most recent call last)\u001b[0m:\n",
      "  File \u001b[0;32m\"C:\\Users\\Thien Nguyen\\Anaconda3\\lib\\site-packages\\IPython\\core\\interactiveshell.py\"\u001b[0m, line \u001b[0;32m2963\u001b[0m, in \u001b[0;35mrun_code\u001b[0m\n    exec(code_obj, self.user_global_ns, self.user_ns)\n",
      "  File \u001b[0;32m\"<ipython-input-48-be8e62347ca5>\"\u001b[0m, line \u001b[0;32m8\u001b[0m, in \u001b[0;35m<module>\u001b[0m\n    lm = ols(formula, df3_dum).fit()\n",
      "  File \u001b[0;32m\"C:\\Users\\Thien Nguyen\\Anaconda3\\lib\\site-packages\\statsmodels\\base\\model.py\"\u001b[0m, line \u001b[0;32m155\u001b[0m, in \u001b[0;35mfrom_formula\u001b[0m\n    missing=missing)\n",
      "  File \u001b[0;32m\"C:\\Users\\Thien Nguyen\\Anaconda3\\lib\\site-packages\\statsmodels\\formula\\formulatools.py\"\u001b[0m, line \u001b[0;32m65\u001b[0m, in \u001b[0;35mhandle_formula_data\u001b[0m\n    NA_action=na_action)\n",
      "  File \u001b[0;32m\"C:\\Users\\Thien Nguyen\\Anaconda3\\lib\\site-packages\\patsy\\highlevel.py\"\u001b[0m, line \u001b[0;32m310\u001b[0m, in \u001b[0;35mdmatrices\u001b[0m\n    NA_action, return_type)\n",
      "  File \u001b[0;32m\"C:\\Users\\Thien Nguyen\\Anaconda3\\lib\\site-packages\\patsy\\highlevel.py\"\u001b[0m, line \u001b[0;32m165\u001b[0m, in \u001b[0;35m_do_highlevel_design\u001b[0m\n    NA_action)\n",
      "  File \u001b[0;32m\"C:\\Users\\Thien Nguyen\\Anaconda3\\lib\\site-packages\\patsy\\highlevel.py\"\u001b[0m, line \u001b[0;32m70\u001b[0m, in \u001b[0;35m_try_incr_builders\u001b[0m\n    NA_action)\n",
      "  File \u001b[0;32m\"C:\\Users\\Thien Nguyen\\Anaconda3\\lib\\site-packages\\patsy\\build.py\"\u001b[0m, line \u001b[0;32m689\u001b[0m, in \u001b[0;35mdesign_matrix_builders\u001b[0m\n    factor_states = _factors_memorize(all_factors, data_iter_maker, eval_env)\n",
      "  File \u001b[0;32m\"C:\\Users\\Thien Nguyen\\Anaconda3\\lib\\site-packages\\patsy\\build.py\"\u001b[0m, line \u001b[0;32m354\u001b[0m, in \u001b[0;35m_factors_memorize\u001b[0m\n    which_pass = factor.memorize_passes_needed(state, eval_env)\n",
      "  File \u001b[0;32m\"C:\\Users\\Thien Nguyen\\Anaconda3\\lib\\site-packages\\patsy\\eval.py\"\u001b[0m, line \u001b[0;32m474\u001b[0m, in \u001b[0;35mmemorize_passes_needed\u001b[0m\n    subset_names = [name for name in ast_names(self.code)\n",
      "  File \u001b[0;32m\"C:\\Users\\Thien Nguyen\\Anaconda3\\lib\\site-packages\\patsy\\eval.py\"\u001b[0m, line \u001b[0;32m474\u001b[0m, in \u001b[0;35m<listcomp>\u001b[0m\n    subset_names = [name for name in ast_names(self.code)\n",
      "  File \u001b[0;32m\"C:\\Users\\Thien Nguyen\\Anaconda3\\lib\\site-packages\\patsy\\eval.py\"\u001b[0m, line \u001b[0;32m105\u001b[0m, in \u001b[0;35mast_names\u001b[0m\n    for node in ast.walk(ast.parse(code)):\n",
      "\u001b[1;36m  File \u001b[1;32m\"C:\\Users\\Thien Nguyen\\Anaconda3\\lib\\ast.py\"\u001b[1;36m, line \u001b[1;32m35\u001b[1;36m, in \u001b[1;35mparse\u001b[1;36m\u001b[0m\n\u001b[1;33m    return compile(source, filename, mode, PyCF_ONLY_AST)\u001b[0m\n",
      "\u001b[1;36m  File \u001b[1;32m\"<unknown>\"\u001b[1;36m, line \u001b[1;32m1\u001b[0m\n\u001b[1;33m    C(Dairy Products)\u001b[0m\n\u001b[1;37m                   ^\u001b[0m\n\u001b[1;31mSyntaxError\u001b[0m\u001b[1;31m:\u001b[0m invalid syntax\n"
     ]
    }
   ],
   "source": [
    "#For a for-loop through the names list to create the formula\n",
    "formula = 'Quantity ~ C(Beverages)'\n",
    "for name in list(df3.CategoryName.unique()[1:]):\n",
    "    formula += '+ C({})'.format(name)\n",
    "    \n",
    "#Run formula through ANOVA\n",
    "formula\n",
    "lm = ols(formula, df3_dum).fit()\n",
    "table = sm.stats.anova_lm(lm, typ=2)\n",
    "print(table)"
   ]
  },
  {
   "cell_type": "markdown",
   "metadata": {},
   "source": [
    "Seems to be a syntax error arising from some of the column titles"
   ]
  },
  {
   "cell_type": "code",
   "execution_count": 55,
   "metadata": {},
   "outputs": [
    {
     "name": "stdout",
     "output_type": "stream",
     "text": [
      "                          sum_sq      df          F    PR(>F)\n",
      "C(Beverages)         2723.126433     1.0   7.513813  0.006173\n",
      "C(Condiments)        2978.993057     1.0   8.219815  0.004184\n",
      "C(Confections)       2466.494182     1.0   6.805698  0.009150\n",
      "C(Dairy_Products)    6068.824554     1.0  16.745463  0.000044\n",
      "C(Grains_Cereals)    1111.812816     1.0   3.067780  0.080001\n",
      "C(Meat_Poultry)      2089.482268     1.0   5.765424  0.016429\n",
      "C(Produce)            137.507791     1.0   0.379420  0.537979\n",
      "C(Seafood)           1757.137198     1.0   4.848398  0.027778\n",
      "Residual           778107.259110  2147.0        NaN       NaN\n"
     ]
    }
   ],
   "source": [
    "new_columns = ['Beverages', 'Condiments', 'Confections', 'Dairy_Products', 'Grains_Cereals', 'Meat_Poultry', 'Produce', 'Seafood', 'Quantity']\n",
    "\n",
    "#For a for-loop through the names list to create the formula\n",
    "formula = 'Quantity ~ C(Beverages)'\n",
    "for name in list(new_columns[1:-1]): #excludes quantity\n",
    "    formula += '+ C({})'.format(name)\n",
    "\n",
    "#Rename columns to avoid error\n",
    "df3_dum.columns = new_columns\n",
    "\n",
    "#Run formula through ANOVA\n",
    "formula\n",
    "lm = ols(formula, df3_dum).fit()\n",
    "table = sm.stats.anova_lm(lm, typ=2)\n",
    "print(table)"
   ]
  },
  {
   "cell_type": "markdown",
   "metadata": {},
   "source": [
    "### Q3 Conclusions\n",
    "Since ANOVA allows us to see the effects of all types of categories, the results are somewhat contrary to those obtained by the t-test. **Beverages, Condiments, Dairy Products, Meat, and Seafood** all seem to have a significant impact on the quantity of items purchased. Yet, a type II ANOVA assumes no interaction between groups, which is most likely not the case here (e.g. people often buy condiments along with meats). Therefore, the ANOVA results should be taken with a grain of salt. "
   ]
  },
  {
   "cell_type": "markdown",
   "metadata": {},
   "source": [
    "### Further Considerations\n",
    "\n",
    "As a whole, there may not be a significant difference, but dividing orders up using a time series might allow us to see when certain categories of items sell more or less than others. This would allow for better control of the supply-chain and pricing. "
   ]
  },
  {
   "cell_type": "markdown",
   "metadata": {},
   "source": [
    "## Q4 - Does shipping company affect the downtime between order and shipment? If so, which shipping companies ship the fastest?\n"
   ]
  },
  {
   "cell_type": "markdown",
   "metadata": {},
   "source": [
    "### 4a. Query Data and Join Table from Order and Shipper"
   ]
  },
  {
   "cell_type": "code",
   "execution_count": 57,
   "metadata": {},
   "outputs": [
    {
     "data": {
      "text/html": [
       "<div>\n",
       "<style scoped>\n",
       "    .dataframe tbody tr th:only-of-type {\n",
       "        vertical-align: middle;\n",
       "    }\n",
       "\n",
       "    .dataframe tbody tr th {\n",
       "        vertical-align: top;\n",
       "    }\n",
       "\n",
       "    .dataframe thead th {\n",
       "        text-align: right;\n",
       "    }\n",
       "</style>\n",
       "<table border=\"1\" class=\"dataframe\">\n",
       "  <thead>\n",
       "    <tr style=\"text-align: right;\">\n",
       "      <th></th>\n",
       "      <th>Id</th>\n",
       "      <th>CustomerId</th>\n",
       "      <th>EmployeeId</th>\n",
       "      <th>OrderDate</th>\n",
       "      <th>RequiredDate</th>\n",
       "      <th>ShippedDate</th>\n",
       "      <th>ShipVia</th>\n",
       "      <th>Freight</th>\n",
       "      <th>ShipName</th>\n",
       "      <th>ShipAddress</th>\n",
       "      <th>ShipCity</th>\n",
       "      <th>ShipRegion</th>\n",
       "      <th>ShipPostalCode</th>\n",
       "      <th>ShipCountry</th>\n",
       "    </tr>\n",
       "  </thead>\n",
       "  <tbody>\n",
       "    <tr>\n",
       "      <th>0</th>\n",
       "      <td>10248</td>\n",
       "      <td>VINET</td>\n",
       "      <td>5</td>\n",
       "      <td>2012-07-04</td>\n",
       "      <td>2012-08-01</td>\n",
       "      <td>2012-07-16</td>\n",
       "      <td>3</td>\n",
       "      <td>32.38</td>\n",
       "      <td>Vins et alcools Chevalier</td>\n",
       "      <td>59 rue de l'Abbaye</td>\n",
       "      <td>Reims</td>\n",
       "      <td>Western Europe</td>\n",
       "      <td>51100</td>\n",
       "      <td>France</td>\n",
       "    </tr>\n",
       "    <tr>\n",
       "      <th>1</th>\n",
       "      <td>10249</td>\n",
       "      <td>TOMSP</td>\n",
       "      <td>6</td>\n",
       "      <td>2012-07-05</td>\n",
       "      <td>2012-08-16</td>\n",
       "      <td>2012-07-10</td>\n",
       "      <td>1</td>\n",
       "      <td>11.61</td>\n",
       "      <td>Toms Spezialitäten</td>\n",
       "      <td>Luisenstr. 48</td>\n",
       "      <td>Münster</td>\n",
       "      <td>Western Europe</td>\n",
       "      <td>44087</td>\n",
       "      <td>Germany</td>\n",
       "    </tr>\n",
       "    <tr>\n",
       "      <th>2</th>\n",
       "      <td>10250</td>\n",
       "      <td>HANAR</td>\n",
       "      <td>4</td>\n",
       "      <td>2012-07-08</td>\n",
       "      <td>2012-08-05</td>\n",
       "      <td>2012-07-12</td>\n",
       "      <td>2</td>\n",
       "      <td>65.83</td>\n",
       "      <td>Hanari Carnes</td>\n",
       "      <td>Rua do Paço, 67</td>\n",
       "      <td>Rio de Janeiro</td>\n",
       "      <td>South America</td>\n",
       "      <td>05454-876</td>\n",
       "      <td>Brazil</td>\n",
       "    </tr>\n",
       "    <tr>\n",
       "      <th>3</th>\n",
       "      <td>10251</td>\n",
       "      <td>VICTE</td>\n",
       "      <td>3</td>\n",
       "      <td>2012-07-08</td>\n",
       "      <td>2012-08-05</td>\n",
       "      <td>2012-07-15</td>\n",
       "      <td>1</td>\n",
       "      <td>41.34</td>\n",
       "      <td>Victuailles en stock</td>\n",
       "      <td>2, rue du Commerce</td>\n",
       "      <td>Lyon</td>\n",
       "      <td>Western Europe</td>\n",
       "      <td>69004</td>\n",
       "      <td>France</td>\n",
       "    </tr>\n",
       "    <tr>\n",
       "      <th>4</th>\n",
       "      <td>10252</td>\n",
       "      <td>SUPRD</td>\n",
       "      <td>4</td>\n",
       "      <td>2012-07-09</td>\n",
       "      <td>2012-08-06</td>\n",
       "      <td>2012-07-11</td>\n",
       "      <td>2</td>\n",
       "      <td>51.30</td>\n",
       "      <td>Suprêmes délices</td>\n",
       "      <td>Boulevard Tirou, 255</td>\n",
       "      <td>Charleroi</td>\n",
       "      <td>Western Europe</td>\n",
       "      <td>B-6000</td>\n",
       "      <td>Belgium</td>\n",
       "    </tr>\n",
       "    <tr>\n",
       "      <th>5</th>\n",
       "      <td>10253</td>\n",
       "      <td>HANAR</td>\n",
       "      <td>3</td>\n",
       "      <td>2012-07-10</td>\n",
       "      <td>2012-07-24</td>\n",
       "      <td>2012-07-16</td>\n",
       "      <td>2</td>\n",
       "      <td>58.17</td>\n",
       "      <td>Hanari Carnes</td>\n",
       "      <td>Rua do Paço, 67</td>\n",
       "      <td>Rio de Janeiro</td>\n",
       "      <td>South America</td>\n",
       "      <td>05454-876</td>\n",
       "      <td>Brazil</td>\n",
       "    </tr>\n",
       "  </tbody>\n",
       "</table>\n",
       "</div>"
      ],
      "text/plain": [
       "      Id CustomerId  EmployeeId   OrderDate RequiredDate ShippedDate  ShipVia  \\\n",
       "0  10248      VINET           5  2012-07-04   2012-08-01  2012-07-16        3   \n",
       "1  10249      TOMSP           6  2012-07-05   2012-08-16  2012-07-10        1   \n",
       "2  10250      HANAR           4  2012-07-08   2012-08-05  2012-07-12        2   \n",
       "3  10251      VICTE           3  2012-07-08   2012-08-05  2012-07-15        1   \n",
       "4  10252      SUPRD           4  2012-07-09   2012-08-06  2012-07-11        2   \n",
       "5  10253      HANAR           3  2012-07-10   2012-07-24  2012-07-16        2   \n",
       "\n",
       "   Freight                   ShipName           ShipAddress        ShipCity  \\\n",
       "0    32.38  Vins et alcools Chevalier    59 rue de l'Abbaye           Reims   \n",
       "1    11.61         Toms Spezialitäten         Luisenstr. 48         Münster   \n",
       "2    65.83              Hanari Carnes       Rua do Paço, 67  Rio de Janeiro   \n",
       "3    41.34       Victuailles en stock    2, rue du Commerce            Lyon   \n",
       "4    51.30           Suprêmes délices  Boulevard Tirou, 255       Charleroi   \n",
       "5    58.17              Hanari Carnes       Rua do Paço, 67  Rio de Janeiro   \n",
       "\n",
       "       ShipRegion ShipPostalCode ShipCountry  \n",
       "0  Western Europe          51100      France  \n",
       "1  Western Europe          44087     Germany  \n",
       "2   South America      05454-876      Brazil  \n",
       "3  Western Europe          69004      France  \n",
       "4  Western Europe         B-6000     Belgium  \n",
       "5   South America      05454-876      Brazil  "
      ]
     },
     "execution_count": 57,
     "metadata": {},
     "output_type": "execute_result"
    }
   ],
   "source": [
    "df = pd.read_sql_query('''SELECT * from [Order]''', engine)\n",
    "df.head(6)"
   ]
  },
  {
   "cell_type": "code",
   "execution_count": 58,
   "metadata": {},
   "outputs": [
    {
     "data": {
      "text/html": [
       "<div>\n",
       "<style scoped>\n",
       "    .dataframe tbody tr th:only-of-type {\n",
       "        vertical-align: middle;\n",
       "    }\n",
       "\n",
       "    .dataframe tbody tr th {\n",
       "        vertical-align: top;\n",
       "    }\n",
       "\n",
       "    .dataframe thead th {\n",
       "        text-align: right;\n",
       "    }\n",
       "</style>\n",
       "<table border=\"1\" class=\"dataframe\">\n",
       "  <thead>\n",
       "    <tr style=\"text-align: right;\">\n",
       "      <th></th>\n",
       "      <th>Id</th>\n",
       "      <th>CompanyName</th>\n",
       "      <th>Phone</th>\n",
       "    </tr>\n",
       "  </thead>\n",
       "  <tbody>\n",
       "    <tr>\n",
       "      <th>0</th>\n",
       "      <td>1</td>\n",
       "      <td>Speedy Express</td>\n",
       "      <td>(503) 555-9831</td>\n",
       "    </tr>\n",
       "    <tr>\n",
       "      <th>1</th>\n",
       "      <td>2</td>\n",
       "      <td>United Package</td>\n",
       "      <td>(503) 555-3199</td>\n",
       "    </tr>\n",
       "    <tr>\n",
       "      <th>2</th>\n",
       "      <td>3</td>\n",
       "      <td>Federal Shipping</td>\n",
       "      <td>(503) 555-9931</td>\n",
       "    </tr>\n",
       "  </tbody>\n",
       "</table>\n",
       "</div>"
      ],
      "text/plain": [
       "   Id       CompanyName           Phone\n",
       "0   1    Speedy Express  (503) 555-9831\n",
       "1   2    United Package  (503) 555-3199\n",
       "2   3  Federal Shipping  (503) 555-9931"
      ]
     },
     "execution_count": 58,
     "metadata": {},
     "output_type": "execute_result"
    }
   ],
   "source": [
    "df = pd.read_sql_query('''SELECT * from [Shipper]''', engine)\n",
    "df"
   ]
  },
  {
   "cell_type": "markdown",
   "metadata": {},
   "source": [
    "The key for the join will be the Shipper Id and the ShipVia column under the order table"
   ]
  },
  {
   "cell_type": "code",
   "execution_count": 59,
   "metadata": {},
   "outputs": [
    {
     "data": {
      "text/html": [
       "<div>\n",
       "<style scoped>\n",
       "    .dataframe tbody tr th:only-of-type {\n",
       "        vertical-align: middle;\n",
       "    }\n",
       "\n",
       "    .dataframe tbody tr th {\n",
       "        vertical-align: top;\n",
       "    }\n",
       "\n",
       "    .dataframe thead th {\n",
       "        text-align: right;\n",
       "    }\n",
       "</style>\n",
       "<table border=\"1\" class=\"dataframe\">\n",
       "  <thead>\n",
       "    <tr style=\"text-align: right;\">\n",
       "      <th></th>\n",
       "      <th>CompanyName</th>\n",
       "      <th>OrderDate</th>\n",
       "      <th>ShippedDate</th>\n",
       "      <th>Id</th>\n",
       "    </tr>\n",
       "  </thead>\n",
       "  <tbody>\n",
       "    <tr>\n",
       "      <th>0</th>\n",
       "      <td>Federal Shipping</td>\n",
       "      <td>2012-07-04</td>\n",
       "      <td>2012-07-16</td>\n",
       "      <td>10248</td>\n",
       "    </tr>\n",
       "    <tr>\n",
       "      <th>1</th>\n",
       "      <td>Speedy Express</td>\n",
       "      <td>2012-07-05</td>\n",
       "      <td>2012-07-10</td>\n",
       "      <td>10249</td>\n",
       "    </tr>\n",
       "    <tr>\n",
       "      <th>2</th>\n",
       "      <td>United Package</td>\n",
       "      <td>2012-07-08</td>\n",
       "      <td>2012-07-12</td>\n",
       "      <td>10250</td>\n",
       "    </tr>\n",
       "    <tr>\n",
       "      <th>3</th>\n",
       "      <td>Speedy Express</td>\n",
       "      <td>2012-07-08</td>\n",
       "      <td>2012-07-15</td>\n",
       "      <td>10251</td>\n",
       "    </tr>\n",
       "    <tr>\n",
       "      <th>4</th>\n",
       "      <td>United Package</td>\n",
       "      <td>2012-07-09</td>\n",
       "      <td>2012-07-11</td>\n",
       "      <td>10252</td>\n",
       "    </tr>\n",
       "  </tbody>\n",
       "</table>\n",
       "</div>"
      ],
      "text/plain": [
       "        CompanyName   OrderDate ShippedDate     Id\n",
       "0  Federal Shipping  2012-07-04  2012-07-16  10248\n",
       "1    Speedy Express  2012-07-05  2012-07-10  10249\n",
       "2    United Package  2012-07-08  2012-07-12  10250\n",
       "3    Speedy Express  2012-07-08  2012-07-15  10251\n",
       "4    United Package  2012-07-09  2012-07-11  10252"
      ]
     },
     "execution_count": 59,
     "metadata": {},
     "output_type": "execute_result"
    }
   ],
   "source": [
    "#Query data and join both the order and shipper table \n",
    "df4 = pd.read_sql_query('''SELECT s.CompanyName, o.OrderDate, o.ShippedDate, o.id\n",
    "FROM [Order] o\n",
    "JOIN [Shipper] s\n",
    "ON o.ShipVia = s.Id\n",
    "''', engine)\n",
    "\n",
    "df4.head()"
   ]
  },
  {
   "cell_type": "code",
   "execution_count": 60,
   "metadata": {},
   "outputs": [
    {
     "data": {
      "text/plain": [
       "str"
      ]
     },
     "execution_count": 60,
     "metadata": {},
     "output_type": "execute_result"
    }
   ],
   "source": [
    "type(df4['OrderDate'][0])"
   ]
  },
  {
   "cell_type": "markdown",
   "metadata": {},
   "source": [
    "The OrderDate and ShippedDate column of the dataframe is string, so conversion to datetime is necessary."
   ]
  },
  {
   "cell_type": "code",
   "execution_count": 61,
   "metadata": {},
   "outputs": [],
   "source": [
    "#Convert str to datetime\n",
    "df4.OrderDate = pd.to_datetime(df4.OrderDate)\n",
    "df4.ShippedDate = pd.to_datetime(df4.ShippedDate)"
   ]
  },
  {
   "cell_type": "code",
   "execution_count": 62,
   "metadata": {},
   "outputs": [
    {
     "data": {
      "text/plain": [
       "pandas._libs.tslibs.timestamps.Timestamp"
      ]
     },
     "execution_count": 62,
     "metadata": {},
     "output_type": "execute_result"
    }
   ],
   "source": [
    "type(df4['OrderDate'][0])"
   ]
  },
  {
   "cell_type": "code",
   "execution_count": 63,
   "metadata": {},
   "outputs": [
    {
     "data": {
      "text/html": [
       "<div>\n",
       "<style scoped>\n",
       "    .dataframe tbody tr th:only-of-type {\n",
       "        vertical-align: middle;\n",
       "    }\n",
       "\n",
       "    .dataframe tbody tr th {\n",
       "        vertical-align: top;\n",
       "    }\n",
       "\n",
       "    .dataframe thead th {\n",
       "        text-align: right;\n",
       "    }\n",
       "</style>\n",
       "<table border=\"1\" class=\"dataframe\">\n",
       "  <thead>\n",
       "    <tr style=\"text-align: right;\">\n",
       "      <th></th>\n",
       "      <th>CompanyName</th>\n",
       "      <th>OrderDate</th>\n",
       "      <th>ShippedDate</th>\n",
       "      <th>Id</th>\n",
       "      <th>ShipTime</th>\n",
       "    </tr>\n",
       "  </thead>\n",
       "  <tbody>\n",
       "    <tr>\n",
       "      <th>0</th>\n",
       "      <td>Federal Shipping</td>\n",
       "      <td>2012-07-04</td>\n",
       "      <td>2012-07-16</td>\n",
       "      <td>10248</td>\n",
       "      <td>12 days</td>\n",
       "    </tr>\n",
       "    <tr>\n",
       "      <th>1</th>\n",
       "      <td>Speedy Express</td>\n",
       "      <td>2012-07-05</td>\n",
       "      <td>2012-07-10</td>\n",
       "      <td>10249</td>\n",
       "      <td>5 days</td>\n",
       "    </tr>\n",
       "    <tr>\n",
       "      <th>2</th>\n",
       "      <td>United Package</td>\n",
       "      <td>2012-07-08</td>\n",
       "      <td>2012-07-12</td>\n",
       "      <td>10250</td>\n",
       "      <td>4 days</td>\n",
       "    </tr>\n",
       "    <tr>\n",
       "      <th>3</th>\n",
       "      <td>Speedy Express</td>\n",
       "      <td>2012-07-08</td>\n",
       "      <td>2012-07-15</td>\n",
       "      <td>10251</td>\n",
       "      <td>7 days</td>\n",
       "    </tr>\n",
       "    <tr>\n",
       "      <th>4</th>\n",
       "      <td>United Package</td>\n",
       "      <td>2012-07-09</td>\n",
       "      <td>2012-07-11</td>\n",
       "      <td>10252</td>\n",
       "      <td>2 days</td>\n",
       "    </tr>\n",
       "  </tbody>\n",
       "</table>\n",
       "</div>"
      ],
      "text/plain": [
       "        CompanyName  OrderDate ShippedDate     Id ShipTime\n",
       "0  Federal Shipping 2012-07-04  2012-07-16  10248  12 days\n",
       "1    Speedy Express 2012-07-05  2012-07-10  10249   5 days\n",
       "2    United Package 2012-07-08  2012-07-12  10250   4 days\n",
       "3    Speedy Express 2012-07-08  2012-07-15  10251   7 days\n",
       "4    United Package 2012-07-09  2012-07-11  10252   2 days"
      ]
     },
     "execution_count": 63,
     "metadata": {},
     "output_type": "execute_result"
    }
   ],
   "source": [
    "#The Ship Time would just be difference between when the order was placed and how long it took to ship it\n",
    "df4['ShipTime'] = df4['ShippedDate'] - df4['OrderDate']\n",
    "df4.head()"
   ]
  },
  {
   "cell_type": "code",
   "execution_count": 64,
   "metadata": {},
   "outputs": [
    {
     "data": {
      "text/html": [
       "<div>\n",
       "<style scoped>\n",
       "    .dataframe tbody tr th:only-of-type {\n",
       "        vertical-align: middle;\n",
       "    }\n",
       "\n",
       "    .dataframe tbody tr th {\n",
       "        vertical-align: top;\n",
       "    }\n",
       "\n",
       "    .dataframe thead th {\n",
       "        text-align: right;\n",
       "    }\n",
       "</style>\n",
       "<table border=\"1\" class=\"dataframe\">\n",
       "  <thead>\n",
       "    <tr style=\"text-align: right;\">\n",
       "      <th></th>\n",
       "      <th>CompanyName</th>\n",
       "      <th>OrderDate</th>\n",
       "      <th>ShippedDate</th>\n",
       "      <th>Id</th>\n",
       "      <th>ShipTime</th>\n",
       "      <th>ShipTimeInt</th>\n",
       "    </tr>\n",
       "  </thead>\n",
       "  <tbody>\n",
       "    <tr>\n",
       "      <th>0</th>\n",
       "      <td>Federal Shipping</td>\n",
       "      <td>2012-07-04</td>\n",
       "      <td>2012-07-16</td>\n",
       "      <td>10248</td>\n",
       "      <td>12 days</td>\n",
       "      <td>12.0</td>\n",
       "    </tr>\n",
       "    <tr>\n",
       "      <th>1</th>\n",
       "      <td>Speedy Express</td>\n",
       "      <td>2012-07-05</td>\n",
       "      <td>2012-07-10</td>\n",
       "      <td>10249</td>\n",
       "      <td>5 days</td>\n",
       "      <td>5.0</td>\n",
       "    </tr>\n",
       "    <tr>\n",
       "      <th>2</th>\n",
       "      <td>United Package</td>\n",
       "      <td>2012-07-08</td>\n",
       "      <td>2012-07-12</td>\n",
       "      <td>10250</td>\n",
       "      <td>4 days</td>\n",
       "      <td>4.0</td>\n",
       "    </tr>\n",
       "    <tr>\n",
       "      <th>3</th>\n",
       "      <td>Speedy Express</td>\n",
       "      <td>2012-07-08</td>\n",
       "      <td>2012-07-15</td>\n",
       "      <td>10251</td>\n",
       "      <td>7 days</td>\n",
       "      <td>7.0</td>\n",
       "    </tr>\n",
       "    <tr>\n",
       "      <th>4</th>\n",
       "      <td>United Package</td>\n",
       "      <td>2012-07-09</td>\n",
       "      <td>2012-07-11</td>\n",
       "      <td>10252</td>\n",
       "      <td>2 days</td>\n",
       "      <td>2.0</td>\n",
       "    </tr>\n",
       "  </tbody>\n",
       "</table>\n",
       "</div>"
      ],
      "text/plain": [
       "        CompanyName  OrderDate ShippedDate     Id ShipTime  ShipTimeInt\n",
       "0  Federal Shipping 2012-07-04  2012-07-16  10248  12 days         12.0\n",
       "1    Speedy Express 2012-07-05  2012-07-10  10249   5 days          5.0\n",
       "2    United Package 2012-07-08  2012-07-12  10250   4 days          4.0\n",
       "3    Speedy Express 2012-07-08  2012-07-15  10251   7 days          7.0\n",
       "4    United Package 2012-07-09  2012-07-11  10252   2 days          2.0"
      ]
     },
     "execution_count": 64,
     "metadata": {},
     "output_type": "execute_result"
    }
   ],
   "source": [
    "#Since ShipTime is a datetime, let's convert it to an int for easy statistical analysis\n",
    "df4['ShipTimeInt'] = df4['ShipTime'].dt.days\n",
    "df4.head()"
   ]
  },
  {
   "cell_type": "markdown",
   "metadata": {},
   "source": [
    "### 4b Scrub Data "
   ]
  },
  {
   "cell_type": "code",
   "execution_count": 65,
   "metadata": {},
   "outputs": [
    {
     "data": {
      "text/plain": [
       "CompanyName     0\n",
       "OrderDate       0\n",
       "ShippedDate    21\n",
       "Id              0\n",
       "ShipTime       21\n",
       "ShipTimeInt    21\n",
       "dtype: int64"
      ]
     },
     "execution_count": 65,
     "metadata": {},
     "output_type": "execute_result"
    }
   ],
   "source": [
    "df4.isna().sum()"
   ]
  },
  {
   "cell_type": "code",
   "execution_count": 66,
   "metadata": {},
   "outputs": [
    {
     "data": {
      "text/plain": [
       "830"
      ]
     },
     "execution_count": 66,
     "metadata": {},
     "output_type": "execute_result"
    }
   ],
   "source": [
    "len(df4)"
   ]
  },
  {
   "cell_type": "markdown",
   "metadata": {},
   "source": [
    "For 21 entries, the shipped date is null, which may indicate that it has not been shipped yet. Since this is a relatively small amount of entries compared to the 830 entries in the dataframe, it should be fine to drop."
   ]
  },
  {
   "cell_type": "code",
   "execution_count": 67,
   "metadata": {},
   "outputs": [
    {
     "data": {
      "text/plain": [
       "CompanyName    0\n",
       "OrderDate      0\n",
       "ShippedDate    0\n",
       "Id             0\n",
       "ShipTime       0\n",
       "ShipTimeInt    0\n",
       "dtype: int64"
      ]
     },
     "execution_count": 67,
     "metadata": {},
     "output_type": "execute_result"
    }
   ],
   "source": [
    "#Check NaN have been dropped\n",
    "df4 = df4.drop(df4[df4['ShippedDate'].isna()].index)\n",
    "df4.isna().sum()"
   ]
  },
  {
   "cell_type": "markdown",
   "metadata": {},
   "source": [
    "### 4c. Establishing Null and Alternate Hypothesis\n",
    "\n",
    "Similar to question #2, establishing the control variable here requires an arbitrary decision about which shipper to use for comparison. This is obvious because without any shippers, the quantity of items sold would almost certainly be 0. Therefore, the null and alternative hypothesis adopt a similar structure as #2. \n",
    "\n",
    "**Null Hypothesis**: Shipper A's time discrepancy between the Order Date and the Shipped Date are the same as all other shippers. \n",
    "\n",
    "**Alternative Hypothesis**: Shipper A's time discrepancy between the Order and Shipped Date is different than all other shippers.\n",
    "\n",
    "This will also be a **two-tailed test** to see if Shipper A is slower (lower tail) or faster (upper tail) than other shippers"
   ]
  },
  {
   "cell_type": "code",
   "execution_count": 68,
   "metadata": {},
   "outputs": [
    {
     "data": {
      "text/plain": [
       "array(['Federal Shipping', 'Speedy Express', 'United Package'],\n",
       "      dtype=object)"
      ]
     },
     "execution_count": 68,
     "metadata": {},
     "output_type": "execute_result"
    }
   ],
   "source": [
    "df4['CompanyName'].unique()"
   ]
  },
  {
   "cell_type": "markdown",
   "metadata": {},
   "source": [
    "### 4d. Statistical Testing"
   ]
  },
  {
   "cell_type": "code",
   "execution_count": 69,
   "metadata": {},
   "outputs": [
    {
     "name": "stdout",
     "output_type": "stream",
     "text": [
      "P-value for employee Federal Shipping for Quantity is 1.0. The t-statistic is 0.0\n",
      "P-value for employee Speedy Express for Quantity is 0.051518480756652135. The t-statistic is 1.951887510648746\n",
      "P-value for employee United Package for Quantity is 0.002438404091471965. The t-statistic is 3.0446731701736733\n"
     ]
    }
   ],
   "source": [
    "control4 = df4[df4['CompanyName'] == 'Federal Shipping']\n",
    "\n",
    "\n",
    "comp_list = list(df4.CompanyName.unique())\n",
    "\n",
    "\n",
    "t_test_results = []\n",
    "\n",
    "for company in comp_list:\n",
    "    result = stats.ttest_ind(df4[df4['CompanyName']==company]['ShipTimeInt'], control4['ShipTimeInt'])\n",
    "    t_test_results.append([company,result])\n",
    "    print('P-value for employee {} for {} is {}. The t-statistic is {}'.format(company, var ,result[1], result[0]))\n",
    "        "
   ]
  },
  {
   "cell_type": "markdown",
   "metadata": {},
   "source": [
    "Both Speedy Express and United package have a higher discrepancy between the order and ship date. United Package has an undoubtedly statistically significant effect according to the alpha level of .05. Speedy Express is a little above the established threshold, but not by much, so it would not be unreasonable to suggest that the company also has a longer ship time than Federal Shipping. Thus, the **null hypothesis can be rejected** from the t-test results"
   ]
  },
  {
   "cell_type": "markdown",
   "metadata": {},
   "source": [
    "### ANOVA Testing"
   ]
  },
  {
   "cell_type": "code",
   "execution_count": 71,
   "metadata": {},
   "outputs": [
    {
     "data": {
      "text/html": [
       "<div>\n",
       "<style scoped>\n",
       "    .dataframe tbody tr th:only-of-type {\n",
       "        vertical-align: middle;\n",
       "    }\n",
       "\n",
       "    .dataframe tbody tr th {\n",
       "        vertical-align: top;\n",
       "    }\n",
       "\n",
       "    .dataframe thead th {\n",
       "        text-align: right;\n",
       "    }\n",
       "</style>\n",
       "<table border=\"1\" class=\"dataframe\">\n",
       "  <thead>\n",
       "    <tr style=\"text-align: right;\">\n",
       "      <th></th>\n",
       "      <th>Federal Shipping</th>\n",
       "      <th>Speedy Express</th>\n",
       "      <th>United Package</th>\n",
       "      <th>ShipTimeInt</th>\n",
       "    </tr>\n",
       "  </thead>\n",
       "  <tbody>\n",
       "    <tr>\n",
       "      <th>0</th>\n",
       "      <td>1</td>\n",
       "      <td>0</td>\n",
       "      <td>0</td>\n",
       "      <td>12.0</td>\n",
       "    </tr>\n",
       "    <tr>\n",
       "      <th>1</th>\n",
       "      <td>0</td>\n",
       "      <td>1</td>\n",
       "      <td>0</td>\n",
       "      <td>5.0</td>\n",
       "    </tr>\n",
       "    <tr>\n",
       "      <th>2</th>\n",
       "      <td>0</td>\n",
       "      <td>0</td>\n",
       "      <td>1</td>\n",
       "      <td>4.0</td>\n",
       "    </tr>\n",
       "    <tr>\n",
       "      <th>3</th>\n",
       "      <td>0</td>\n",
       "      <td>1</td>\n",
       "      <td>0</td>\n",
       "      <td>7.0</td>\n",
       "    </tr>\n",
       "    <tr>\n",
       "      <th>4</th>\n",
       "      <td>0</td>\n",
       "      <td>0</td>\n",
       "      <td>1</td>\n",
       "      <td>2.0</td>\n",
       "    </tr>\n",
       "  </tbody>\n",
       "</table>\n",
       "</div>"
      ],
      "text/plain": [
       "   Federal Shipping  Speedy Express  United Package  ShipTimeInt\n",
       "0                 1               0               0         12.0\n",
       "1                 0               1               0          5.0\n",
       "2                 0               0               1          4.0\n",
       "3                 0               1               0          7.0\n",
       "4                 0               0               1          2.0"
      ]
     },
     "execution_count": 71,
     "metadata": {},
     "output_type": "execute_result"
    }
   ],
   "source": [
    "#Create dummies for each company\n",
    "df4_dum= pd.concat([pd.get_dummies(df4['CompanyName']), df4['ShipTimeInt']], axis = 1)\n",
    "df4_dum.head()"
   ]
  },
  {
   "cell_type": "code",
   "execution_count": 72,
   "metadata": {},
   "outputs": [
    {
     "ename": "SyntaxError",
     "evalue": "invalid syntax (<unknown>, line 1)",
     "output_type": "error",
     "traceback": [
      "Traceback \u001b[1;36m(most recent call last)\u001b[0m:\n",
      "  File \u001b[0;32m\"C:\\Users\\Thien Nguyen\\Anaconda3\\lib\\site-packages\\IPython\\core\\interactiveshell.py\"\u001b[0m, line \u001b[0;32m2963\u001b[0m, in \u001b[0;35mrun_code\u001b[0m\n    exec(code_obj, self.user_global_ns, self.user_ns)\n",
      "  File \u001b[0;32m\"<ipython-input-72-2ee309adb418>\"\u001b[0m, line \u001b[0;32m2\u001b[0m, in \u001b[0;35m<module>\u001b[0m\n    lm = ols(formula, df4_dum).fit()\n",
      "  File \u001b[0;32m\"C:\\Users\\Thien Nguyen\\Anaconda3\\lib\\site-packages\\statsmodels\\base\\model.py\"\u001b[0m, line \u001b[0;32m155\u001b[0m, in \u001b[0;35mfrom_formula\u001b[0m\n    missing=missing)\n",
      "  File \u001b[0;32m\"C:\\Users\\Thien Nguyen\\Anaconda3\\lib\\site-packages\\statsmodels\\formula\\formulatools.py\"\u001b[0m, line \u001b[0;32m65\u001b[0m, in \u001b[0;35mhandle_formula_data\u001b[0m\n    NA_action=na_action)\n",
      "  File \u001b[0;32m\"C:\\Users\\Thien Nguyen\\Anaconda3\\lib\\site-packages\\patsy\\highlevel.py\"\u001b[0m, line \u001b[0;32m310\u001b[0m, in \u001b[0;35mdmatrices\u001b[0m\n    NA_action, return_type)\n",
      "  File \u001b[0;32m\"C:\\Users\\Thien Nguyen\\Anaconda3\\lib\\site-packages\\patsy\\highlevel.py\"\u001b[0m, line \u001b[0;32m165\u001b[0m, in \u001b[0;35m_do_highlevel_design\u001b[0m\n    NA_action)\n",
      "  File \u001b[0;32m\"C:\\Users\\Thien Nguyen\\Anaconda3\\lib\\site-packages\\patsy\\highlevel.py\"\u001b[0m, line \u001b[0;32m70\u001b[0m, in \u001b[0;35m_try_incr_builders\u001b[0m\n    NA_action)\n",
      "  File \u001b[0;32m\"C:\\Users\\Thien Nguyen\\Anaconda3\\lib\\site-packages\\patsy\\build.py\"\u001b[0m, line \u001b[0;32m689\u001b[0m, in \u001b[0;35mdesign_matrix_builders\u001b[0m\n    factor_states = _factors_memorize(all_factors, data_iter_maker, eval_env)\n",
      "  File \u001b[0;32m\"C:\\Users\\Thien Nguyen\\Anaconda3\\lib\\site-packages\\patsy\\build.py\"\u001b[0m, line \u001b[0;32m354\u001b[0m, in \u001b[0;35m_factors_memorize\u001b[0m\n    which_pass = factor.memorize_passes_needed(state, eval_env)\n",
      "  File \u001b[0;32m\"C:\\Users\\Thien Nguyen\\Anaconda3\\lib\\site-packages\\patsy\\eval.py\"\u001b[0m, line \u001b[0;32m474\u001b[0m, in \u001b[0;35mmemorize_passes_needed\u001b[0m\n    subset_names = [name for name in ast_names(self.code)\n",
      "  File \u001b[0;32m\"C:\\Users\\Thien Nguyen\\Anaconda3\\lib\\site-packages\\patsy\\eval.py\"\u001b[0m, line \u001b[0;32m474\u001b[0m, in \u001b[0;35m<listcomp>\u001b[0m\n    subset_names = [name for name in ast_names(self.code)\n",
      "  File \u001b[0;32m\"C:\\Users\\Thien Nguyen\\Anaconda3\\lib\\site-packages\\patsy\\eval.py\"\u001b[0m, line \u001b[0;32m105\u001b[0m, in \u001b[0;35mast_names\u001b[0m\n    for node in ast.walk(ast.parse(code)):\n",
      "\u001b[1;36m  File \u001b[1;32m\"C:\\Users\\Thien Nguyen\\Anaconda3\\lib\\ast.py\"\u001b[1;36m, line \u001b[1;32m35\u001b[1;36m, in \u001b[1;35mparse\u001b[1;36m\u001b[0m\n\u001b[1;33m    return compile(source, filename, mode, PyCF_ONLY_AST)\u001b[0m\n",
      "\u001b[1;36m  File \u001b[1;32m\"<unknown>\"\u001b[1;36m, line \u001b[1;32m1\u001b[0m\n\u001b[1;33m    C(Speedy Express)\u001b[0m\n\u001b[1;37m                   ^\u001b[0m\n\u001b[1;31mSyntaxError\u001b[0m\u001b[1;31m:\u001b[0m invalid syntax\n"
     ]
    }
   ],
   "source": [
    "formula = 'ShipTimeInt ~ C(Federal Shipping) + C(Speedy Express) +C(United Package)'\n",
    "lm = ols(formula, df4_dum).fit()\n",
    "table = sm.stats.anova_lm(lm, typ=2)\n",
    "print(table)"
   ]
  },
  {
   "cell_type": "markdown",
   "metadata": {},
   "source": [
    "There again seems to be an error with the spacing of each company"
   ]
  },
  {
   "cell_type": "code",
   "execution_count": 309,
   "metadata": {},
   "outputs": [
    {
     "name": "stdout",
     "output_type": "stream",
     "text": [
      "                          sum_sq     df          F        PR(>F)\n",
      "C(FederalShipping)    490.805093    1.0  10.590072  1.184360e-03\n",
      "C(SpeedyExpress)     1846.279198    1.0  39.837054  4.553543e-10\n",
      "C(UnitedPackage)     3707.273814    1.0  79.991621  2.537819e-18\n",
      "Residual            37354.696194  806.0        NaN           NaN\n"
     ]
    }
   ],
   "source": [
    "#Rename the columns\n",
    "df4_dum.columns = ['FederalShipping', 'SpeedyExpress', 'UnitedPackage', 'ShipTimeInt']\n",
    "\n",
    "#Run a type II ANOVA\n",
    "formula = 'ShipTimeInt ~ C(FederalShipping) + C(SpeedyExpress) + C(UnitedPackage)'\n",
    "lm = ols(formula, df4_dum).fit()\n",
    "table = sm.stats.anova_lm(lm, typ=2)\n",
    "print(table)"
   ]
  },
  {
   "cell_type": "markdown",
   "metadata": {},
   "source": [
    "### Q4 Conclusions\n",
    "\n",
    "The ANOVA results suggest that all three companies do have a significant effect on ship time. It also agrees with the t-test results in showing the Federal Shipping has the lowest effect on ship time, which makes it the fastest shipping company. Since there should be no supposed interaction between the different companies, a type II ANOVA was appropriate. However, this does not necessarily mean that Federal Shipping is the best because at least one other factor needs to be considered--cost."
   ]
  },
  {
   "cell_type": "markdown",
   "metadata": {},
   "source": [
    "### Q4 Further Considerations\n",
    "\n",
    "Ship time may be indicative of how promptly consumers get their orders, but more appropriate information would be delivery time. That way, there would be a direct indication of how quickly customers got their items after ordering them. Assuming that every customer received their orders by the required date, the next consideration is cost. By choosing the cheaper company, even if it's slower, transportation costs can be reduced considerably."
   ]
  },
  {
   "cell_type": "markdown",
   "metadata": {},
   "source": [
    "# Module 2 Summary"
   ]
  },
  {
   "cell_type": "markdown",
   "metadata": {},
   "source": [
    "### Q1. Do discounts have an effect on the number of products customers order? If so, at what level of discounts?\n",
    "\n",
    "1. SQL query performed joining both Products and Order Details table with a focus on **quantity** and **UnitsonOrder** columns\n",
    "2. Data was scrubbed and no NaN values were found\n",
    "3. Rows with discount percentages of .01-.04 and .06 were omitted due to an extremely low quantity of available data.\n",
    "4. Control group set as 0 discount. Two sample t-test and ks-test confirms that discount has a statistically signficant effect on the number of products customers order for all discount levels, except .1.\n",
    "5. ANOVA confirms t-test and ks-test results and revealed effect size of each discount category.\n",
    "\n",
    "### Q2. Do certain employees do better or worse than others in quantity of items sold in each order? If so, who seems to do the best?\n",
    "\n",
    "1. **Order Detail** joined with **Order** and **Employee** table. Quantity items sold per transaction was queried for each employee.\n",
    "2. Null values checked for. None were found.\n",
    "3. Alternative and null hypothesis for set with Peacock being the control group, and two-sample, two-tailed t-test was run to test relative performance of every employee against Ms. Peacock. **Null Hypothesis was accepted with Ms. Peacock**\n",
    "4. Yet, testing the same hypothesis with *Suyama as the control* allowed the **Null hypothesis to be rejected*.\n",
    "5. ANOVA was run with all employees to determine effect over each within all sales. Four employees--**Buchanan, Leverling, Fuller, and King** were found to have a significant impact on the quantity of items sold.\n",
    "\n",
    "### Q3. Do consumers buy certain categories of items more than other? If so, which categories?\n",
    "\n",
    "1. **Order Detail** joined with **Product** and **Category** table. Category Name and quantity was selected\n",
    "2. Null values check for and none found\n",
    "3. Alternative and null hypothesis set. Differences in quantity means would be detected with beverages as the control group.\n",
    "4. Two-tailed, two-sample t-test was run to test quantity of each category against the control. **Null Hypothesis accepted.**\n",
    "5. Repeating the t-tests with **Produce** as the control also failed to rejected the null hypothesis.\n",
    "6. ANOVA was run and found that five categories, **Beverages, Condiments, Dairy Products, Meat, and Seafood**, had a significant impact on quantity.\n",
    "\n",
    "\n",
    "### Q4. Does shipping company affect the downtime between order and shipment? If so, which shipping companies ship the fastest?\n",
    "1. Joined Order and Shipper table and selected Company Name, Order Date, and Shipped Date\n",
    "2. Converted Order Date and Shipped Date to datetime\n",
    "3. Created a new column --ShipTime-- that indicates the difference between Shipped Date and Order Date\n",
    "4. Dropped 21 out of 830 entries due to null values in ShipTime\n",
    "5. Alternative and null set with Federal Shipping being the control group. Discrepancy in average ship time warranted t-test.\n",
    "6. Two-sample, two-tailed t-test between the control and other companies individually allowed for the **null hypothesis to be rejected**. **Federal Shipping seems to be significantly faster.**\n",
    "7. ANOVA performed and all three companies had an effect on ShipTime, and results also concurred with t-test."
   ]
  },
  {
   "cell_type": "code",
   "execution_count": null,
   "metadata": {},
   "outputs": [],
   "source": []
  }
 ],
 "metadata": {
  "kernelspec": {
   "display_name": "Python 3",
   "language": "python",
   "name": "python3"
  },
  "language_info": {
   "codemirror_mode": {
    "name": "ipython",
    "version": 3
   },
   "file_extension": ".py",
   "mimetype": "text/x-python",
   "name": "python",
   "nbconvert_exporter": "python",
   "pygments_lexer": "ipython3",
   "version": "3.6.5"
  }
 },
 "nbformat": 4,
 "nbformat_minor": 2
}
